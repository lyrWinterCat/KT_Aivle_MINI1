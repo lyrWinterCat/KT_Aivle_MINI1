{
 "cells": [
  {
   "cell_type": "markdown",
   "id": "boxed-jamaica",
   "metadata": {
    "id": "boxed-jamaica"
   },
   "source": [
    "# AIVLE스쿨 1차 미니프로젝트: 서울시 생활정보 기반 대중교통 수요 분석"
   ]
  },
  {
   "cell_type": "markdown",
   "id": "9ea815ef-cdcf-460b-a4fa-6f6f18c030dc",
   "metadata": {
    "id": "9ea815ef-cdcf-460b-a4fa-6f6f18c030dc"
   },
   "source": [
    "<img src = \"https://github.com/Jangrae/img/blob/master/bus.png?raw=true\" width=800, align=\"left\"/>"
   ]
  },
  {
   "cell_type": "markdown",
   "id": "dc8136a8-beb7-4361-ae42-14fd9fdf5613",
   "metadata": {
    "id": "dc8136a8-beb7-4361-ae42-14fd9fdf5613"
   },
   "source": [
    "- 본 과정에서는 실제 사례와 데이터를 기반으로 문제를 해결하는 전체 과정을 자기 주도형 실습으로 진행해볼 예정입니다.\n",
    "- 앞선 교육과정을 정리하는 마음과 지금까지 배운 내용을 바탕으로 문제 해결을 해볼게요!\n",
    "- 미니 프로젝트를 통한 문제 해결 과정 'A에서 Z까지', 지금부터 시작합니다!"
   ]
  },
  {
   "cell_type": "markdown",
   "id": "ef575059",
   "metadata": {
    "id": "ef575059"
   },
   "source": [
    "---"
   ]
  },
  {
   "cell_type": "markdown",
   "id": "f2bc4fa5",
   "metadata": {
    "id": "f2bc4fa5"
   },
   "source": [
    "# [미션 1] 구별 버스정류장 분석"
   ]
  },
  {
   "cell_type": "markdown",
   "id": "a33ab5ce-425a-4258-aead-db22031269ad",
   "metadata": {
    "id": "a33ab5ce-425a-4258-aead-db22031269ad"
   },
   "source": [
    "### 로컬 수행(Anaconda)\n",
    "- project 폴더에 필요한 파일들을 넣고, 본 파일을 열었다면, 별도 경로 지정이 필요하지 않습니다."
   ]
  },
  {
   "cell_type": "code",
   "execution_count": 8,
   "id": "ea3b8c63-8b7d-4c98-8aca-0475f5740c52",
   "metadata": {
    "id": "ea3b8c63-8b7d-4c98-8aca-0475f5740c52",
    "tags": []
   },
   "outputs": [],
   "source": [
    "# 기본 경로\n",
    "path = ''"
   ]
  },
  {
   "cell_type": "markdown",
   "id": "37d9d724-8a11-49b6-a6d0-cef9fb0d033e",
   "metadata": {
    "id": "37d9d724-8a11-49b6-a6d0-cef9fb0d033e"
   },
   "source": [
    "### 구글 콜랩 수행\n",
    "\n",
    "- 구글 콜랩을 사용중이면 구글 드라이브를 연결합니다."
   ]
  },
  {
   "cell_type": "code",
   "execution_count": 10,
   "id": "648076d0-5ceb-43c2-a932-00e4e9c7780f",
   "metadata": {
    "id": "648076d0-5ceb-43c2-a932-00e4e9c7780f",
    "tags": []
   },
   "outputs": [],
   "source": [
    "# 구글 드라이브 연결, 패스 지정\n",
    "import sys\n",
    "if 'google.colab' in sys.modules:\n",
    "    from google.colab import drive\n",
    "    drive.mount('/content/drive')\n",
    "    path = '/content/drive/MyDrive/project/'"
   ]
  },
  {
   "cell_type": "markdown",
   "id": "b54c772d-7bdb-4ebe-a079-f43975dea60b",
   "metadata": {
    "id": "b54c772d-7bdb-4ebe-a079-f43975dea60b"
   },
   "source": [
    "### 한글 폰트 표시를 위해 설치합니다."
   ]
  },
  {
   "cell_type": "code",
   "execution_count": 12,
   "id": "56c76cbb-8e06-49ef-9342-1ec0c20e55c5",
   "metadata": {
    "id": "56c76cbb-8e06-49ef-9342-1ec0c20e55c5"
   },
   "outputs": [],
   "source": [
    "# 한글 표시를 위한 라이브러리 설치\n",
    "!pip install koreanize_matplotlib -q"
   ]
  },
  {
   "cell_type": "markdown",
   "id": "d53101ef-342b-4589-9488-0ffc4b859940",
   "metadata": {
    "id": "d53101ef-342b-4589-9488-0ffc4b859940"
   },
   "source": [
    "### 필요한 라이브러리를 불러옵니다."
   ]
  },
  {
   "cell_type": "code",
   "execution_count": 14,
   "id": "0bd83ddf",
   "metadata": {
    "id": "0bd83ddf",
    "tags": []
   },
   "outputs": [],
   "source": [
    "# 라이브러리 불러오기\n",
    "import numpy as np\n",
    "import pandas as pd\n",
    "import matplotlib.pyplot as plt\n",
    "import koreanize_matplotlib\n",
    "import warnings\n",
    "\n",
    "warnings.filterwarnings(action='ignore')\n",
    "%config InlineBackend.figure_format='retina'"
   ]
  },
  {
   "cell_type": "code",
   "execution_count": 15,
   "id": "682c8b50-0f53-4327-a5b3-bc85b5f86e9e",
   "metadata": {},
   "outputs": [],
   "source": [
    "# 폰트 설정\n",
    "import matplotlib.pyplot as plt\n",
    "import matplotlib.font_manager as fm\n",
    "\n",
    "# 한글 폰트 설정 (예: NanumGothic)\n",
    "font_path = 'C:\\\\Windows\\\\Fonts\\\\malgun.ttf'   # 폰트 파일 경로\n",
    "fontprop = fm.FontProperties(fname=font_path, size=12)\n",
    "plt.rc('font', family=fontprop.get_name())"
   ]
  },
  {
   "cell_type": "markdown",
   "id": "revolutionary-farmer",
   "metadata": {
    "id": "revolutionary-farmer"
   },
   "source": [
    "### 기본 데이터: 1.1 bus_station_boarding_month_202408.csv\n",
    "- 서울시 버스노선별 정류장별 승하차 인원 정보\n",
    "- 출처: https://data.seoul.go.kr/dataList/OA-12912/S/1/datasetView.do\n",
    "\n",
    "### 추가 데이터: 1.1 bus_station_202408.xlsx\n",
    "- 서울시 버스정류장 위치정보\n",
    "- 출처: https://data.seoul.go.kr/dataList/OA-15067/S/1/datasetView.do"
   ]
  },
  {
   "cell_type": "markdown",
   "id": "66b509d5-719b-4310-91a7-051a43f8c325",
   "metadata": {
    "id": "66b509d5-719b-4310-91a7-051a43f8c325"
   },
   "source": [
    "---"
   ]
  },
  {
   "cell_type": "markdown",
   "id": "warming-gentleman",
   "metadata": {
    "id": "warming-gentleman"
   },
   "source": [
    "# 1. 데이터 불러오기\n",
    "\n",
    "- 분석 대상 데이터를 불러와 데이터프레임으로 선언합니다."
   ]
  },
  {
   "cell_type": "markdown",
   "id": "5f095db8-dcf8-4024-aa9e-b6fbf3fd3071",
   "metadata": {
    "id": "5f095db8-dcf8-4024-aa9e-b6fbf3fd3071",
    "jp-MarkdownHeadingCollapsed": true
   },
   "source": [
    "### [참고] 데이터 프레임을 불러오고 변수로 저장(CSV 기준으로 진행)\n",
    "\n",
    "- csv: pd.read_csv('파일이름.csv')\n",
    "- txt: pd.read_csv('파일이름.csv', sep='구분자')\n",
    "- xlsx: pd.read_excel('파일이름.xlsx')\n",
    "- pickle: pd.read_pickle('파일이름.pkl')"
   ]
  },
  {
   "cell_type": "markdown",
   "id": "vocational-animal",
   "metadata": {
    "id": "vocational-animal"
   },
   "source": [
    "## [실습1] 데이터 불러오기\n",
    "\n",
    "- 대상 파일: 1.1 bus_station_boarding_month_202408.csv\n",
    "- 불러온 데이터는 bus_station 데이터프레임으로 선언하세요.\n",
    "- 데이터 불러올 때 참고할 사항\n",
    "    - 구분자(sep)는 ',' 입니다\n",
    "    - CP949 인코더를 사용해 주세요\n",
    "- 가상 정류장은 '버스정류장ARS번호' 열 값이 '~'로 저정되어 있습니다.\n",
    "- 가상 정류장은 버스정보시스템 상에서 위치 정보를 표시하기 위해 임의로 설정한 것이며, 실제하지 않습니다.\n",
    "- 그러므로 가상 정류장 행은 삭제합니다."
   ]
  },
  {
   "cell_type": "code",
   "execution_count": 21,
   "id": "saving-slope",
   "metadata": {
    "id": "saving-slope",
    "scrolled": true,
    "tags": []
   },
   "outputs": [
    {
     "data": {
      "text/html": [
       "<div>\n",
       "<style scoped>\n",
       "    .dataframe tbody tr th:only-of-type {\n",
       "        vertical-align: middle;\n",
       "    }\n",
       "\n",
       "    .dataframe tbody tr th {\n",
       "        vertical-align: top;\n",
       "    }\n",
       "\n",
       "    .dataframe thead th {\n",
       "        text-align: right;\n",
       "    }\n",
       "</style>\n",
       "<table border=\"1\" class=\"dataframe\">\n",
       "  <thead>\n",
       "    <tr style=\"text-align: right;\">\n",
       "      <th></th>\n",
       "      <th>사용일자</th>\n",
       "      <th>노선번호</th>\n",
       "      <th>노선명</th>\n",
       "      <th>버스정류장ARS번호</th>\n",
       "      <th>역명</th>\n",
       "      <th>승차총승객수</th>\n",
       "      <th>하차총승객수</th>\n",
       "      <th>등록일자</th>\n",
       "    </tr>\n",
       "  </thead>\n",
       "  <tbody>\n",
       "    <tr>\n",
       "      <th>0</th>\n",
       "      <td>20240801</td>\n",
       "      <td>100</td>\n",
       "      <td>100번(하계동~용산구청)</td>\n",
       "      <td>01002</td>\n",
       "      <td>창경궁.서울대학교병원(00031)</td>\n",
       "      <td>123</td>\n",
       "      <td>134</td>\n",
       "      <td>20240804</td>\n",
       "    </tr>\n",
       "    <tr>\n",
       "      <th>1</th>\n",
       "      <td>20240801</td>\n",
       "      <td>7728</td>\n",
       "      <td>7728번(대화동~신촌)</td>\n",
       "      <td>19702</td>\n",
       "      <td>DMC두산위브더퍼스트(00038)</td>\n",
       "      <td>217</td>\n",
       "      <td>45</td>\n",
       "      <td>20240804</td>\n",
       "    </tr>\n",
       "    <tr>\n",
       "      <th>2</th>\n",
       "      <td>20240801</td>\n",
       "      <td>7728</td>\n",
       "      <td>7728번(대화동~신촌)</td>\n",
       "      <td>19701</td>\n",
       "      <td>DMC두산위브더퍼스트(00071)</td>\n",
       "      <td>22</td>\n",
       "      <td>148</td>\n",
       "      <td>20240804</td>\n",
       "    </tr>\n",
       "    <tr>\n",
       "      <th>3</th>\n",
       "      <td>20240801</td>\n",
       "      <td>7728</td>\n",
       "      <td>7728번(대화동~신촌)</td>\n",
       "      <td>13259</td>\n",
       "      <td>현대백화점(00056)</td>\n",
       "      <td>125</td>\n",
       "      <td>78</td>\n",
       "      <td>20240804</td>\n",
       "    </tr>\n",
       "    <tr>\n",
       "      <th>4</th>\n",
       "      <td>20240801</td>\n",
       "      <td>7728</td>\n",
       "      <td>7728번(대화동~신촌)</td>\n",
       "      <td>13147</td>\n",
       "      <td>연희동대우아파트(00058)</td>\n",
       "      <td>118</td>\n",
       "      <td>33</td>\n",
       "      <td>20240804</td>\n",
       "    </tr>\n",
       "  </tbody>\n",
       "</table>\n",
       "</div>"
      ],
      "text/plain": [
       "       사용일자  노선번호             노선명 버스정류장ARS번호                  역명  승차총승객수  \\\n",
       "0  20240801   100  100번(하계동~용산구청)      01002  창경궁.서울대학교병원(00031)     123   \n",
       "1  20240801  7728   7728번(대화동~신촌)      19702  DMC두산위브더퍼스트(00038)     217   \n",
       "2  20240801  7728   7728번(대화동~신촌)      19701  DMC두산위브더퍼스트(00071)      22   \n",
       "3  20240801  7728   7728번(대화동~신촌)      13259        현대백화점(00056)     125   \n",
       "4  20240801  7728   7728번(대화동~신촌)      13147     연희동대우아파트(00058)     118   \n",
       "\n",
       "   하차총승객수      등록일자  \n",
       "0     134  20240804  \n",
       "1      45  20240804  \n",
       "2     148  20240804  \n",
       "3      78  20240804  \n",
       "4      33  20240804  "
      ]
     },
     "execution_count": 21,
     "metadata": {},
     "output_type": "execute_result"
    }
   ],
   "source": [
    "# 데이터 불러오기\n",
    "bus_station = pd.read_csv(path + '1.1 bus_station_boarding_month_202408.csv', sep=',', encoding='CP949')\n",
    "\n",
    "# 가상 정류장 삭제\n",
    "del_rows = list(bus_station[bus_station['버스정류장ARS번호'] == '~'].index)\n",
    "bus_station.drop(del_rows, axis=0, inplace=True)\n",
    "\n",
    "# 확인\n",
    "bus_station.head()"
   ]
  },
  {
   "cell_type": "code",
   "execution_count": 22,
   "id": "funny-subcommittee",
   "metadata": {
    "id": "funny-subcommittee",
    "tags": []
   },
   "outputs": [
    {
     "name": "stdout",
     "output_type": "stream",
     "text": [
      "1165104 8\n"
     ]
    }
   ],
   "source": [
    "# 데이터프레임 크기(행, 열) 확인\n",
    "num_rows = bus_station.shape[0]\n",
    "num_columns = bus_station.shape[1]\n",
    "print(num_rows, num_columns)\n"
   ]
  },
  {
   "cell_type": "markdown",
   "id": "6fd3a15d-e9fe-457e-8731-b77c0ecbb207",
   "metadata": {
    "id": "6fd3a15d-e9fe-457e-8731-b77c0ecbb207"
   },
   "source": [
    "---"
   ]
  },
  {
   "cell_type": "markdown",
   "id": "annoying-trout",
   "metadata": {
    "id": "annoying-trout"
   },
   "source": [
    "# 2. 기본 정보 확인 및 전처리\n",
    "\n",
    "- 분석 대상 테이터를 탐색하고 적절한 전처리를 수행합니다."
   ]
  },
  {
   "cell_type": "markdown",
   "id": "romantic-johnson",
   "metadata": {
    "id": "romantic-johnson"
   },
   "source": [
    "## [실습2] 기본 정보 확인\n",
    "\n",
    "- bus_station 데이터프레임 정보를 확인하세요.\n",
    "- head(), tail(), info(), describe() 메서드 등을 활용해 보세요."
   ]
  },
  {
   "cell_type": "code",
   "execution_count": 26,
   "id": "7343fadf",
   "metadata": {
    "id": "7343fadf",
    "tags": []
   },
   "outputs": [
    {
     "data": {
      "text/html": [
       "<div>\n",
       "<style scoped>\n",
       "    .dataframe tbody tr th:only-of-type {\n",
       "        vertical-align: middle;\n",
       "    }\n",
       "\n",
       "    .dataframe tbody tr th {\n",
       "        vertical-align: top;\n",
       "    }\n",
       "\n",
       "    .dataframe thead th {\n",
       "        text-align: right;\n",
       "    }\n",
       "</style>\n",
       "<table border=\"1\" class=\"dataframe\">\n",
       "  <thead>\n",
       "    <tr style=\"text-align: right;\">\n",
       "      <th></th>\n",
       "      <th>사용일자</th>\n",
       "      <th>노선번호</th>\n",
       "      <th>노선명</th>\n",
       "      <th>버스정류장ARS번호</th>\n",
       "      <th>역명</th>\n",
       "      <th>승차총승객수</th>\n",
       "      <th>하차총승객수</th>\n",
       "      <th>등록일자</th>\n",
       "    </tr>\n",
       "  </thead>\n",
       "  <tbody>\n",
       "    <tr>\n",
       "      <th>0</th>\n",
       "      <td>20240801</td>\n",
       "      <td>100</td>\n",
       "      <td>100번(하계동~용산구청)</td>\n",
       "      <td>01002</td>\n",
       "      <td>창경궁.서울대학교병원(00031)</td>\n",
       "      <td>123</td>\n",
       "      <td>134</td>\n",
       "      <td>20240804</td>\n",
       "    </tr>\n",
       "    <tr>\n",
       "      <th>1</th>\n",
       "      <td>20240801</td>\n",
       "      <td>7728</td>\n",
       "      <td>7728번(대화동~신촌)</td>\n",
       "      <td>19702</td>\n",
       "      <td>DMC두산위브더퍼스트(00038)</td>\n",
       "      <td>217</td>\n",
       "      <td>45</td>\n",
       "      <td>20240804</td>\n",
       "    </tr>\n",
       "    <tr>\n",
       "      <th>2</th>\n",
       "      <td>20240801</td>\n",
       "      <td>7728</td>\n",
       "      <td>7728번(대화동~신촌)</td>\n",
       "      <td>19701</td>\n",
       "      <td>DMC두산위브더퍼스트(00071)</td>\n",
       "      <td>22</td>\n",
       "      <td>148</td>\n",
       "      <td>20240804</td>\n",
       "    </tr>\n",
       "    <tr>\n",
       "      <th>3</th>\n",
       "      <td>20240801</td>\n",
       "      <td>7728</td>\n",
       "      <td>7728번(대화동~신촌)</td>\n",
       "      <td>13259</td>\n",
       "      <td>현대백화점(00056)</td>\n",
       "      <td>125</td>\n",
       "      <td>78</td>\n",
       "      <td>20240804</td>\n",
       "    </tr>\n",
       "    <tr>\n",
       "      <th>4</th>\n",
       "      <td>20240801</td>\n",
       "      <td>7728</td>\n",
       "      <td>7728번(대화동~신촌)</td>\n",
       "      <td>13147</td>\n",
       "      <td>연희동대우아파트(00058)</td>\n",
       "      <td>118</td>\n",
       "      <td>33</td>\n",
       "      <td>20240804</td>\n",
       "    </tr>\n",
       "  </tbody>\n",
       "</table>\n",
       "</div>"
      ],
      "text/plain": [
       "       사용일자  노선번호             노선명 버스정류장ARS번호                  역명  승차총승객수  \\\n",
       "0  20240801   100  100번(하계동~용산구청)      01002  창경궁.서울대학교병원(00031)     123   \n",
       "1  20240801  7728   7728번(대화동~신촌)      19702  DMC두산위브더퍼스트(00038)     217   \n",
       "2  20240801  7728   7728번(대화동~신촌)      19701  DMC두산위브더퍼스트(00071)      22   \n",
       "3  20240801  7728   7728번(대화동~신촌)      13259        현대백화점(00056)     125   \n",
       "4  20240801  7728   7728번(대화동~신촌)      13147     연희동대우아파트(00058)     118   \n",
       "\n",
       "   하차총승객수      등록일자  \n",
       "0     134  20240804  \n",
       "1      45  20240804  \n",
       "2     148  20240804  \n",
       "3      78  20240804  \n",
       "4      33  20240804  "
      ]
     },
     "execution_count": 26,
     "metadata": {},
     "output_type": "execute_result"
    }
   ],
   "source": [
    "# head() 메서드로 상위 데이터 확인\n",
    "bus_station.head()"
   ]
  },
  {
   "cell_type": "code",
   "execution_count": 27,
   "id": "7f77b32f",
   "metadata": {
    "id": "7f77b32f",
    "tags": []
   },
   "outputs": [
    {
     "data": {
      "text/html": [
       "<div>\n",
       "<style scoped>\n",
       "    .dataframe tbody tr th:only-of-type {\n",
       "        vertical-align: middle;\n",
       "    }\n",
       "\n",
       "    .dataframe tbody tr th {\n",
       "        vertical-align: top;\n",
       "    }\n",
       "\n",
       "    .dataframe thead th {\n",
       "        text-align: right;\n",
       "    }\n",
       "</style>\n",
       "<table border=\"1\" class=\"dataframe\">\n",
       "  <thead>\n",
       "    <tr style=\"text-align: right;\">\n",
       "      <th></th>\n",
       "      <th>사용일자</th>\n",
       "      <th>노선번호</th>\n",
       "      <th>노선명</th>\n",
       "      <th>버스정류장ARS번호</th>\n",
       "      <th>역명</th>\n",
       "      <th>승차총승객수</th>\n",
       "      <th>하차총승객수</th>\n",
       "      <th>등록일자</th>\n",
       "    </tr>\n",
       "  </thead>\n",
       "  <tbody>\n",
       "    <tr>\n",
       "      <th>1170229</th>\n",
       "      <td>20240831</td>\n",
       "      <td>3422</td>\n",
       "      <td>3422번(장지공영차고지~한티역)</td>\n",
       "      <td>24010</td>\n",
       "      <td>가락시장.가락시장역(00068)</td>\n",
       "      <td>29</td>\n",
       "      <td>116</td>\n",
       "      <td>20240903</td>\n",
       "    </tr>\n",
       "    <tr>\n",
       "      <th>1170230</th>\n",
       "      <td>20240831</td>\n",
       "      <td>753</td>\n",
       "      <td>753번(구산동~상도동)</td>\n",
       "      <td>13002</td>\n",
       "      <td>북가좌동삼거리(00084)</td>\n",
       "      <td>73</td>\n",
       "      <td>40</td>\n",
       "      <td>20240903</td>\n",
       "    </tr>\n",
       "    <tr>\n",
       "      <th>1170231</th>\n",
       "      <td>20240831</td>\n",
       "      <td>성북13</td>\n",
       "      <td>성북13(동방주택~석계역)</td>\n",
       "      <td>08451</td>\n",
       "      <td>동방주택(00028)</td>\n",
       "      <td>31</td>\n",
       "      <td>56</td>\n",
       "      <td>20240903</td>\n",
       "    </tr>\n",
       "    <tr>\n",
       "      <th>1170232</th>\n",
       "      <td>20240831</td>\n",
       "      <td>3422</td>\n",
       "      <td>3422번(장지공영차고지~한티역)</td>\n",
       "      <td>24011</td>\n",
       "      <td>문정로데오거리입구(00025)</td>\n",
       "      <td>33</td>\n",
       "      <td>42</td>\n",
       "      <td>20240903</td>\n",
       "    </tr>\n",
       "    <tr>\n",
       "      <th>1170233</th>\n",
       "      <td>20240831</td>\n",
       "      <td>107</td>\n",
       "      <td>107번(민락동차고지~종로5가)</td>\n",
       "      <td>08269</td>\n",
       "      <td>세아.보광.건영아파트앞(00102)</td>\n",
       "      <td>39</td>\n",
       "      <td>108</td>\n",
       "      <td>20240903</td>\n",
       "    </tr>\n",
       "  </tbody>\n",
       "</table>\n",
       "</div>"
      ],
      "text/plain": [
       "             사용일자  노선번호                 노선명 버스정류장ARS번호                   역명  \\\n",
       "1170229  20240831  3422  3422번(장지공영차고지~한티역)      24010    가락시장.가락시장역(00068)   \n",
       "1170230  20240831   753       753번(구산동~상도동)      13002       북가좌동삼거리(00084)   \n",
       "1170231  20240831  성북13      성북13(동방주택~석계역)      08451          동방주택(00028)   \n",
       "1170232  20240831  3422  3422번(장지공영차고지~한티역)      24011     문정로데오거리입구(00025)   \n",
       "1170233  20240831   107   107번(민락동차고지~종로5가)      08269  세아.보광.건영아파트앞(00102)   \n",
       "\n",
       "         승차총승객수  하차총승객수      등록일자  \n",
       "1170229      29     116  20240903  \n",
       "1170230      73      40  20240903  \n",
       "1170231      31      56  20240903  \n",
       "1170232      33      42  20240903  \n",
       "1170233      39     108  20240903  "
      ]
     },
     "execution_count": 27,
     "metadata": {},
     "output_type": "execute_result"
    }
   ],
   "source": [
    "# tail() 메서드로 하위 데이터 확인\n",
    "bus_station.tail()"
   ]
  },
  {
   "cell_type": "code",
   "execution_count": 28,
   "id": "demographic-battery",
   "metadata": {
    "id": "demographic-battery",
    "tags": []
   },
   "outputs": [
    {
     "name": "stdout",
     "output_type": "stream",
     "text": [
      "<class 'pandas.core.frame.DataFrame'>\n",
      "Index: 1165104 entries, 0 to 1170233\n",
      "Data columns (total 8 columns):\n",
      " #   Column      Non-Null Count    Dtype \n",
      "---  ------      --------------    ----- \n",
      " 0   사용일자        1165104 non-null  int64 \n",
      " 1   노선번호        1165104 non-null  object\n",
      " 2   노선명         1165104 non-null  object\n",
      " 3   버스정류장ARS번호  1165104 non-null  object\n",
      " 4   역명          1165104 non-null  object\n",
      " 5   승차총승객수      1165104 non-null  int64 \n",
      " 6   하차총승객수      1165104 non-null  int64 \n",
      " 7   등록일자        1165104 non-null  int64 \n",
      "dtypes: int64(4), object(4)\n",
      "memory usage: 80.0+ MB\n"
     ]
    }
   ],
   "source": [
    "# info() 메서드로 열 이름, 데이터 개수, 데이터 형식 등 확인\n",
    "bus_station.info()"
   ]
  },
  {
   "cell_type": "code",
   "execution_count": 29,
   "id": "92834ef5-6aea-4019-8531-c536b9467eee",
   "metadata": {
    "id": "92834ef5-6aea-4019-8531-c536b9467eee"
   },
   "outputs": [],
   "source": [
    "# 표시 형식 변경\n",
    "pd.set_option('display.float_format', '{:.4f}'.format)"
   ]
  },
  {
   "cell_type": "code",
   "execution_count": 30,
   "id": "940a114a",
   "metadata": {
    "id": "940a114a",
    "tags": []
   },
   "outputs": [
    {
     "data": {
      "text/html": [
       "<div>\n",
       "<style scoped>\n",
       "    .dataframe tbody tr th:only-of-type {\n",
       "        vertical-align: middle;\n",
       "    }\n",
       "\n",
       "    .dataframe tbody tr th {\n",
       "        vertical-align: top;\n",
       "    }\n",
       "\n",
       "    .dataframe thead th {\n",
       "        text-align: right;\n",
       "    }\n",
       "</style>\n",
       "<table border=\"1\" class=\"dataframe\">\n",
       "  <thead>\n",
       "    <tr style=\"text-align: right;\">\n",
       "      <th></th>\n",
       "      <th>사용일자</th>\n",
       "      <th>승차총승객수</th>\n",
       "      <th>하차총승객수</th>\n",
       "      <th>등록일자</th>\n",
       "    </tr>\n",
       "  </thead>\n",
       "  <tbody>\n",
       "    <tr>\n",
       "      <th>count</th>\n",
       "      <td>1165104.0000</td>\n",
       "      <td>1165104.0000</td>\n",
       "      <td>1165104.0000</td>\n",
       "      <td>1165104.0000</td>\n",
       "    </tr>\n",
       "    <tr>\n",
       "      <th>mean</th>\n",
       "      <td>20240816.0110</td>\n",
       "      <td>116.5005</td>\n",
       "      <td>114.2709</td>\n",
       "      <td>20240825.7067</td>\n",
       "    </tr>\n",
       "    <tr>\n",
       "      <th>std</th>\n",
       "      <td>8.9479</td>\n",
       "      <td>159.1275</td>\n",
       "      <td>144.4570</td>\n",
       "      <td>26.1626</td>\n",
       "    </tr>\n",
       "    <tr>\n",
       "      <th>min</th>\n",
       "      <td>20240801.0000</td>\n",
       "      <td>0.0000</td>\n",
       "      <td>0.0000</td>\n",
       "      <td>20240804.0000</td>\n",
       "    </tr>\n",
       "    <tr>\n",
       "      <th>25%</th>\n",
       "      <td>20240808.0000</td>\n",
       "      <td>18.0000</td>\n",
       "      <td>21.0000</td>\n",
       "      <td>20240811.0000</td>\n",
       "    </tr>\n",
       "    <tr>\n",
       "      <th>50%</th>\n",
       "      <td>20240816.0000</td>\n",
       "      <td>69.0000</td>\n",
       "      <td>74.0000</td>\n",
       "      <td>20240819.0000</td>\n",
       "    </tr>\n",
       "    <tr>\n",
       "      <th>75%</th>\n",
       "      <td>20240824.0000</td>\n",
       "      <td>156.0000</td>\n",
       "      <td>155.0000</td>\n",
       "      <td>20240827.0000</td>\n",
       "    </tr>\n",
       "    <tr>\n",
       "      <th>max</th>\n",
       "      <td>20240831.0000</td>\n",
       "      <td>4494.0000</td>\n",
       "      <td>3496.0000</td>\n",
       "      <td>20240903.0000</td>\n",
       "    </tr>\n",
       "  </tbody>\n",
       "</table>\n",
       "</div>"
      ],
      "text/plain": [
       "               사용일자       승차총승객수       하차총승객수          등록일자\n",
       "count  1165104.0000 1165104.0000 1165104.0000  1165104.0000\n",
       "mean  20240816.0110     116.5005     114.2709 20240825.7067\n",
       "std          8.9479     159.1275     144.4570       26.1626\n",
       "min   20240801.0000       0.0000       0.0000 20240804.0000\n",
       "25%   20240808.0000      18.0000      21.0000 20240811.0000\n",
       "50%   20240816.0000      69.0000      74.0000 20240819.0000\n",
       "75%   20240824.0000     156.0000     155.0000 20240827.0000\n",
       "max   20240831.0000    4494.0000    3496.0000 20240903.0000"
      ]
     },
     "execution_count": 30,
     "metadata": {},
     "output_type": "execute_result"
    }
   ],
   "source": [
    "# describe() 메서드로 기술통계정보 확인\n",
    "bus_station.describe()"
   ]
  },
  {
   "cell_type": "code",
   "execution_count": 31,
   "id": "8593d19c-9b86-4e07-83d9-cea8f6e3f936",
   "metadata": {
    "id": "8593d19c-9b86-4e07-83d9-cea8f6e3f936",
    "tags": []
   },
   "outputs": [],
   "source": [
    "# 표시 형식 초기화\n",
    "pd.reset_option('display.float_format')"
   ]
  },
  {
   "cell_type": "markdown",
   "id": "f26c27a6",
   "metadata": {
    "id": "f26c27a6"
   },
   "source": [
    "## [실습3] 버스정류장 위치를 구별로 구분\n",
    "\n",
    "- '버스정류장ARS번호' 열의 값 앞 2자리가 구를 의미합니다.(예:  '01002'의 앞 2자리 '01')\n",
    "- '버스정류장ARS번호' 열의 값 앞 2자리를 갖는 '자치구' 열을 추가하세요.\n",
    "- 참고로, 자치구는 각 정류장이 위치한 구 이름입니다."
   ]
  },
  {
   "cell_type": "code",
   "execution_count": 33,
   "id": "98e2fc76",
   "metadata": {
    "id": "98e2fc76",
    "tags": []
   },
   "outputs": [
    {
     "data": {
      "text/plain": [
       "0          01002\n",
       "1          19702\n",
       "2          19701\n",
       "3          13259\n",
       "4          13147\n",
       "           ...  \n",
       "1170229    24010\n",
       "1170230    13002\n",
       "1170231    08451\n",
       "1170232    24011\n",
       "1170233    08269\n",
       "Name: 버스정류장ARS번호, Length: 1165104, dtype: object"
      ]
     },
     "execution_count": 33,
     "metadata": {},
     "output_type": "execute_result"
    }
   ],
   "source": [
    "# '버스정류장ARS번호' 열 확인\n",
    "bus_station['버스정류장ARS번호']"
   ]
  },
  {
   "cell_type": "code",
   "execution_count": 34,
   "id": "056437b2",
   "metadata": {
    "id": "056437b2",
    "tags": []
   },
   "outputs": [
    {
     "data": {
      "text/plain": [
       "0          01\n",
       "1          19\n",
       "2          19\n",
       "3          13\n",
       "4          13\n",
       "           ..\n",
       "1170229    24\n",
       "1170230    13\n",
       "1170231    08\n",
       "1170232    24\n",
       "1170233    08\n",
       "Name: 자치구, Length: 1165104, dtype: object"
      ]
     },
     "execution_count": 34,
     "metadata": {},
     "output_type": "execute_result"
    }
   ],
   "source": [
    "# '자치구' 열 추가\n",
    "# 참고: df['새열'] = df['기존열'].str[m:n] 형태로 슬라이싱\n",
    "bus_station['자치구'] = bus_station['버스정류장ARS번호'].str[:2]\n",
    "\n",
    "# 확인\n",
    "bus_station['자치구']"
   ]
  },
  {
   "cell_type": "markdown",
   "id": "1e97c502",
   "metadata": {
    "id": "1e97c502"
   },
   "source": [
    "**[참고] 버스정류장 ARS 번호: 01~25까지 앞 숫자 두개가 위치한 구를 의미**\n",
    "\n",
    "~~~\n",
    "01. 종로구  02. 중구    03. 용산구  04. 성동구  05. 광진구    06. 동대문구  07. 중랑구\n",
    "08. 성북구  09. 강북구  10. 도봉구  11. 노원구  12. 은평구    13. 서대문구  14. 마포구\n",
    "15. 양천구  16. 강서구  17. 구로구  18. 금천구  19. 영등포구  20. 동작구    21. 관악구\n",
    "22. 서초구  23. 강남구  24. 송파구  25. 강동구\n",
    "~~~"
   ]
  },
  {
   "cell_type": "markdown",
   "id": "6abf6070-6c4a-4352-902e-8b398b6999a7",
   "metadata": {
    "id": "6abf6070-6c4a-4352-902e-8b398b6999a7"
   },
   "source": [
    "- 다음 코드를 필히 실행하여 구 코드를 구 이름으로 변경하세요."
   ]
  },
  {
   "cell_type": "code",
   "execution_count": 37,
   "id": "e6a4256b",
   "metadata": {
    "id": "e6a4256b",
    "tags": []
   },
   "outputs": [
    {
     "data": {
      "text/html": [
       "<div>\n",
       "<style scoped>\n",
       "    .dataframe tbody tr th:only-of-type {\n",
       "        vertical-align: middle;\n",
       "    }\n",
       "\n",
       "    .dataframe tbody tr th {\n",
       "        vertical-align: top;\n",
       "    }\n",
       "\n",
       "    .dataframe thead th {\n",
       "        text-align: right;\n",
       "    }\n",
       "</style>\n",
       "<table border=\"1\" class=\"dataframe\">\n",
       "  <thead>\n",
       "    <tr style=\"text-align: right;\">\n",
       "      <th></th>\n",
       "      <th>사용일자</th>\n",
       "      <th>노선번호</th>\n",
       "      <th>노선명</th>\n",
       "      <th>버스정류장ARS번호</th>\n",
       "      <th>역명</th>\n",
       "      <th>승차총승객수</th>\n",
       "      <th>하차총승객수</th>\n",
       "      <th>등록일자</th>\n",
       "      <th>자치구</th>\n",
       "    </tr>\n",
       "  </thead>\n",
       "  <tbody>\n",
       "    <tr>\n",
       "      <th>0</th>\n",
       "      <td>20240801</td>\n",
       "      <td>100</td>\n",
       "      <td>100번(하계동~용산구청)</td>\n",
       "      <td>1002</td>\n",
       "      <td>창경궁.서울대학교병원(00031)</td>\n",
       "      <td>123</td>\n",
       "      <td>134</td>\n",
       "      <td>20240804</td>\n",
       "      <td>종로구</td>\n",
       "    </tr>\n",
       "    <tr>\n",
       "      <th>1</th>\n",
       "      <td>20240801</td>\n",
       "      <td>7728</td>\n",
       "      <td>7728번(대화동~신촌)</td>\n",
       "      <td>19702</td>\n",
       "      <td>DMC두산위브더퍼스트(00038)</td>\n",
       "      <td>217</td>\n",
       "      <td>45</td>\n",
       "      <td>20240804</td>\n",
       "      <td>영등포구</td>\n",
       "    </tr>\n",
       "    <tr>\n",
       "      <th>2</th>\n",
       "      <td>20240801</td>\n",
       "      <td>7728</td>\n",
       "      <td>7728번(대화동~신촌)</td>\n",
       "      <td>19701</td>\n",
       "      <td>DMC두산위브더퍼스트(00071)</td>\n",
       "      <td>22</td>\n",
       "      <td>148</td>\n",
       "      <td>20240804</td>\n",
       "      <td>영등포구</td>\n",
       "    </tr>\n",
       "    <tr>\n",
       "      <th>3</th>\n",
       "      <td>20240801</td>\n",
       "      <td>7728</td>\n",
       "      <td>7728번(대화동~신촌)</td>\n",
       "      <td>13259</td>\n",
       "      <td>현대백화점(00056)</td>\n",
       "      <td>125</td>\n",
       "      <td>78</td>\n",
       "      <td>20240804</td>\n",
       "      <td>서대문구</td>\n",
       "    </tr>\n",
       "    <tr>\n",
       "      <th>4</th>\n",
       "      <td>20240801</td>\n",
       "      <td>7728</td>\n",
       "      <td>7728번(대화동~신촌)</td>\n",
       "      <td>13147</td>\n",
       "      <td>연희동대우아파트(00058)</td>\n",
       "      <td>118</td>\n",
       "      <td>33</td>\n",
       "      <td>20240804</td>\n",
       "      <td>서대문구</td>\n",
       "    </tr>\n",
       "  </tbody>\n",
       "</table>\n",
       "</div>"
      ],
      "text/plain": [
       "       사용일자  노선번호             노선명  버스정류장ARS번호                  역명  승차총승객수  \\\n",
       "0  20240801   100  100번(하계동~용산구청)        1002  창경궁.서울대학교병원(00031)     123   \n",
       "1  20240801  7728   7728번(대화동~신촌)       19702  DMC두산위브더퍼스트(00038)     217   \n",
       "2  20240801  7728   7728번(대화동~신촌)       19701  DMC두산위브더퍼스트(00071)      22   \n",
       "3  20240801  7728   7728번(대화동~신촌)       13259        현대백화점(00056)     125   \n",
       "4  20240801  7728   7728번(대화동~신촌)       13147     연희동대우아파트(00058)     118   \n",
       "\n",
       "   하차총승객수      등록일자   자치구  \n",
       "0     134  20240804   종로구  \n",
       "1      45  20240804  영등포구  \n",
       "2     148  20240804  영등포구  \n",
       "3      78  20240804  서대문구  \n",
       "4      33  20240804  서대문구  "
      ]
     },
     "execution_count": 37,
     "metadata": {},
     "output_type": "execute_result"
    }
   ],
   "source": [
    "# 구 코드를 구 이름으로 변경\n",
    "bus_station['자치구'] = bus_station['자치구'].map({\n",
    "    '01': '종로구', '02': '중구',   '03': '용산구', '04': '성동구', '05': '광진구',   '06': '동대문구', '07': '중랑구',\n",
    "    '08': '성북구', '09': '강북구', '10': '도봉구', '11': '노원구', '12': '은평구',   '13': '서대문구', '14': '마포구',\n",
    "    '15': '양천구', '16': '강서구', '17': '구로구', '18': '금천구', '19': '영등포구', '20': '동작구',   '21': '관악구',\n",
    "    '22': '서초구', '23': '강남구', '24': '송파구', '25': '강동구'})\n",
    "\n",
    "# '버스정류장ARS번호' 열 데이터 형식 변경\n",
    "bus_station['버스정류장ARS번호'] = bus_station['버스정류장ARS번호'].astype(int)\n",
    "\n",
    "# 확인\n",
    "bus_station.head()"
   ]
  },
  {
   "cell_type": "markdown",
   "id": "003322b3",
   "metadata": {
    "id": "003322b3"
   },
   "source": [
    "## [실습4] 서울지역 데이터 준비\n",
    "\n",
    "- bus_station 데이터프레임에는 서울 지역 외의 버스정류장이 포함되어 있습니다.\n",
    "- 예를 들어 다음과 같이 '버스정류장ARS번호' 열 값이 7674 인 행을 검색하면 조회가 됩니다.\n",
    "- 하지만 네이버 지도에서 7674번 버스 정류장을 검색해 보세요. 이 정류장은 서울 지역이 아닙니다."
   ]
  },
  {
   "cell_type": "code",
   "execution_count": 39,
   "id": "3b2e0822-ae2d-4d20-989c-fea0b4a683b1",
   "metadata": {
    "id": "3b2e0822-ae2d-4d20-989c-fea0b4a683b1"
   },
   "outputs": [
    {
     "data": {
      "text/html": [
       "<div>\n",
       "<style scoped>\n",
       "    .dataframe tbody tr th:only-of-type {\n",
       "        vertical-align: middle;\n",
       "    }\n",
       "\n",
       "    .dataframe tbody tr th {\n",
       "        vertical-align: top;\n",
       "    }\n",
       "\n",
       "    .dataframe thead th {\n",
       "        text-align: right;\n",
       "    }\n",
       "</style>\n",
       "<table border=\"1\" class=\"dataframe\">\n",
       "  <thead>\n",
       "    <tr style=\"text-align: right;\">\n",
       "      <th></th>\n",
       "      <th>사용일자</th>\n",
       "      <th>노선번호</th>\n",
       "      <th>노선명</th>\n",
       "      <th>버스정류장ARS번호</th>\n",
       "      <th>역명</th>\n",
       "      <th>승차총승객수</th>\n",
       "      <th>하차총승객수</th>\n",
       "      <th>등록일자</th>\n",
       "      <th>자치구</th>\n",
       "    </tr>\n",
       "  </thead>\n",
       "  <tbody>\n",
       "    <tr>\n",
       "      <th>190830</th>\n",
       "      <td>20240806</td>\n",
       "      <td>9409</td>\n",
       "      <td>9409번(구미동차고지~신사역)</td>\n",
       "      <td>7674</td>\n",
       "      <td>이우중고(00005)</td>\n",
       "      <td>1</td>\n",
       "      <td>0</td>\n",
       "      <td>20240809</td>\n",
       "      <td>중랑구</td>\n",
       "    </tr>\n",
       "    <tr>\n",
       "      <th>304889</th>\n",
       "      <td>20240809</td>\n",
       "      <td>9409</td>\n",
       "      <td>9409번(구미동차고지~신사역)</td>\n",
       "      <td>7674</td>\n",
       "      <td>이우중고(00005)</td>\n",
       "      <td>1</td>\n",
       "      <td>0</td>\n",
       "      <td>20240812</td>\n",
       "      <td>중랑구</td>\n",
       "    </tr>\n",
       "    <tr>\n",
       "      <th>342468</th>\n",
       "      <td>20240810</td>\n",
       "      <td>9409</td>\n",
       "      <td>9409번(구미동차고지~신사역)</td>\n",
       "      <td>7674</td>\n",
       "      <td>이우중고(00005)</td>\n",
       "      <td>0</td>\n",
       "      <td>2</td>\n",
       "      <td>20240813</td>\n",
       "      <td>중랑구</td>\n",
       "    </tr>\n",
       "    <tr>\n",
       "      <th>417226</th>\n",
       "      <td>20240812</td>\n",
       "      <td>9409</td>\n",
       "      <td>9409번(구미동차고지~신사역)</td>\n",
       "      <td>7674</td>\n",
       "      <td>이우중고(00005)</td>\n",
       "      <td>2</td>\n",
       "      <td>0</td>\n",
       "      <td>20240815</td>\n",
       "      <td>중랑구</td>\n",
       "    </tr>\n",
       "    <tr>\n",
       "      <th>568426</th>\n",
       "      <td>20240816</td>\n",
       "      <td>9409</td>\n",
       "      <td>9409번(구미동차고지~신사역)</td>\n",
       "      <td>7674</td>\n",
       "      <td>이우중고(00005)</td>\n",
       "      <td>0</td>\n",
       "      <td>1</td>\n",
       "      <td>20240819</td>\n",
       "      <td>중랑구</td>\n",
       "    </tr>\n",
       "  </tbody>\n",
       "</table>\n",
       "</div>"
      ],
      "text/plain": [
       "            사용일자  노선번호                노선명  버스정류장ARS번호           역명  승차총승객수  \\\n",
       "190830  20240806  9409  9409번(구미동차고지~신사역)        7674  이우중고(00005)       1   \n",
       "304889  20240809  9409  9409번(구미동차고지~신사역)        7674  이우중고(00005)       1   \n",
       "342468  20240810  9409  9409번(구미동차고지~신사역)        7674  이우중고(00005)       0   \n",
       "417226  20240812  9409  9409번(구미동차고지~신사역)        7674  이우중고(00005)       2   \n",
       "568426  20240816  9409  9409번(구미동차고지~신사역)        7674  이우중고(00005)       0   \n",
       "\n",
       "        하차총승객수      등록일자  자치구  \n",
       "190830       0  20240809  중랑구  \n",
       "304889       0  20240812  중랑구  \n",
       "342468       2  20240813  중랑구  \n",
       "417226       0  20240815  중랑구  \n",
       "568426       1  20240819  중랑구  "
      ]
     },
     "execution_count": 39,
     "metadata": {},
     "output_type": "execute_result"
    }
   ],
   "source": [
    "# 7674 번 정류장 검색\n",
    "bus_station.loc[bus_station['버스정류장ARS번호'] == 7674].head()"
   ]
  },
  {
   "cell_type": "markdown",
   "id": "c49cbb53-f836-4cbd-9539-8fdb014754ca",
   "metadata": {
    "id": "c49cbb53-f836-4cbd-9539-8fdb014754ca"
   },
   "source": [
    "- 1.1 bus_station_202408.xlsx 엑셀 파일에 서울지역 만의 정류장 정보가 포함되어 있습니다.\n",
    "- 파일을 읽어와 only_seoul 데이터프레임으로 선언하세요."
   ]
  },
  {
   "cell_type": "code",
   "execution_count": 41,
   "id": "0753a1e1",
   "metadata": {
    "id": "0753a1e1",
    "tags": []
   },
   "outputs": [
    {
     "data": {
      "text/html": [
       "<div>\n",
       "<style scoped>\n",
       "    .dataframe tbody tr th:only-of-type {\n",
       "        vertical-align: middle;\n",
       "    }\n",
       "\n",
       "    .dataframe tbody tr th {\n",
       "        vertical-align: top;\n",
       "    }\n",
       "\n",
       "    .dataframe thead th {\n",
       "        text-align: right;\n",
       "    }\n",
       "</style>\n",
       "<table border=\"1\" class=\"dataframe\">\n",
       "  <thead>\n",
       "    <tr style=\"text-align: right;\">\n",
       "      <th></th>\n",
       "      <th>ARS_ID</th>\n",
       "      <th>정류소명</th>\n",
       "    </tr>\n",
       "  </thead>\n",
       "  <tbody>\n",
       "    <tr>\n",
       "      <th>0</th>\n",
       "      <td>1001</td>\n",
       "      <td>종로2가사거리</td>\n",
       "    </tr>\n",
       "    <tr>\n",
       "      <th>1</th>\n",
       "      <td>1002</td>\n",
       "      <td>창경궁.서울대학교병원</td>\n",
       "    </tr>\n",
       "    <tr>\n",
       "      <th>2</th>\n",
       "      <td>1003</td>\n",
       "      <td>명륜3가.성대입구</td>\n",
       "    </tr>\n",
       "    <tr>\n",
       "      <th>3</th>\n",
       "      <td>1004</td>\n",
       "      <td>종로2가.삼일교</td>\n",
       "    </tr>\n",
       "    <tr>\n",
       "      <th>4</th>\n",
       "      <td>1005</td>\n",
       "      <td>혜화동로터리.여운형활동터</td>\n",
       "    </tr>\n",
       "  </tbody>\n",
       "</table>\n",
       "</div>"
      ],
      "text/plain": [
       "   ARS_ID           정류소명\n",
       "0    1001        종로2가사거리\n",
       "1    1002    창경궁.서울대학교병원\n",
       "2    1003      명륜3가.성대입구\n",
       "3    1004       종로2가.삼일교\n",
       "4    1005  혜화동로터리.여운형활동터"
      ]
     },
     "execution_count": 41,
     "metadata": {},
     "output_type": "execute_result"
    }
   ],
   "source": [
    "# 서울 버스 정류장 데이터 불러오기\n",
    "# 참고: read_excel() 메서드 사용\n",
    "only_seoul = pd.read_excel(path +'1.1 bus_station_202408.xlsx')\n",
    "\n",
    "# 확인\n",
    "only_seoul.head()"
   ]
  },
  {
   "cell_type": "markdown",
   "id": "b9f1ac70-ed8c-4849-9574-fc93c503546c",
   "metadata": {
    "id": "b9f1ac70-ed8c-4849-9574-fc93c503546c"
   },
   "source": [
    "- only_seoul 데이터프레임의 'ARS_ID' 열 이름을 '버스정류장ARS번호'로 변경하세요."
   ]
  },
  {
   "cell_type": "code",
   "execution_count": 43,
   "id": "9ba67b7a-61f4-450b-8fc6-45ae1dcc9231",
   "metadata": {
    "id": "9ba67b7a-61f4-450b-8fc6-45ae1dcc9231",
    "tags": []
   },
   "outputs": [
    {
     "data": {
      "text/html": [
       "<div>\n",
       "<style scoped>\n",
       "    .dataframe tbody tr th:only-of-type {\n",
       "        vertical-align: middle;\n",
       "    }\n",
       "\n",
       "    .dataframe tbody tr th {\n",
       "        vertical-align: top;\n",
       "    }\n",
       "\n",
       "    .dataframe thead th {\n",
       "        text-align: right;\n",
       "    }\n",
       "</style>\n",
       "<table border=\"1\" class=\"dataframe\">\n",
       "  <thead>\n",
       "    <tr style=\"text-align: right;\">\n",
       "      <th></th>\n",
       "      <th>버스정류장ARS번호</th>\n",
       "      <th>정류소명</th>\n",
       "    </tr>\n",
       "  </thead>\n",
       "  <tbody>\n",
       "    <tr>\n",
       "      <th>0</th>\n",
       "      <td>1001</td>\n",
       "      <td>종로2가사거리</td>\n",
       "    </tr>\n",
       "    <tr>\n",
       "      <th>1</th>\n",
       "      <td>1002</td>\n",
       "      <td>창경궁.서울대학교병원</td>\n",
       "    </tr>\n",
       "    <tr>\n",
       "      <th>2</th>\n",
       "      <td>1003</td>\n",
       "      <td>명륜3가.성대입구</td>\n",
       "    </tr>\n",
       "    <tr>\n",
       "      <th>3</th>\n",
       "      <td>1004</td>\n",
       "      <td>종로2가.삼일교</td>\n",
       "    </tr>\n",
       "    <tr>\n",
       "      <th>4</th>\n",
       "      <td>1005</td>\n",
       "      <td>혜화동로터리.여운형활동터</td>\n",
       "    </tr>\n",
       "  </tbody>\n",
       "</table>\n",
       "</div>"
      ],
      "text/plain": [
       "   버스정류장ARS번호           정류소명\n",
       "0        1001        종로2가사거리\n",
       "1        1002    창경궁.서울대학교병원\n",
       "2        1003      명륜3가.성대입구\n",
       "3        1004       종로2가.삼일교\n",
       "4        1005  혜화동로터리.여운형활동터"
      ]
     },
     "execution_count": 43,
     "metadata": {},
     "output_type": "execute_result"
    }
   ],
   "source": [
    "# 열 이름 변경: 'ARS_ID ' --> '버스정류장ARS번호'\n",
    "# 참고: rename() 메서드 사용\n",
    "only_seoul.rename(columns={'ARS_ID': '버스정류장ARS번호'}, inplace=True)\n",
    "\n",
    "# 확인\n",
    "only_seoul.head()\n"
   ]
  },
  {
   "cell_type": "markdown",
   "id": "9253bdb1-c0fe-42b4-ac0d-24004b902bd7",
   "metadata": {
    "id": "9253bdb1-c0fe-42b4-ac0d-24004b902bd7"
   },
   "source": [
    "- only_seoul, bus_station 두 데이터프레임을 조인(merge)하세요.\n",
    "- 조인 결과를 tmp 데이터프레임으로 선언하세요."
   ]
  },
  {
   "cell_type": "code",
   "execution_count": 45,
   "id": "75b114c8",
   "metadata": {
    "id": "75b114c8",
    "tags": []
   },
   "outputs": [
    {
     "data": {
      "text/html": [
       "<div>\n",
       "<style scoped>\n",
       "    .dataframe tbody tr th:only-of-type {\n",
       "        vertical-align: middle;\n",
       "    }\n",
       "\n",
       "    .dataframe tbody tr th {\n",
       "        vertical-align: top;\n",
       "    }\n",
       "\n",
       "    .dataframe thead th {\n",
       "        text-align: right;\n",
       "    }\n",
       "</style>\n",
       "<table border=\"1\" class=\"dataframe\">\n",
       "  <thead>\n",
       "    <tr style=\"text-align: right;\">\n",
       "      <th></th>\n",
       "      <th>버스정류장ARS번호</th>\n",
       "      <th>정류소명</th>\n",
       "      <th>사용일자</th>\n",
       "      <th>노선번호</th>\n",
       "      <th>노선명</th>\n",
       "      <th>역명</th>\n",
       "      <th>승차총승객수</th>\n",
       "      <th>하차총승객수</th>\n",
       "      <th>등록일자</th>\n",
       "      <th>자치구</th>\n",
       "    </tr>\n",
       "  </thead>\n",
       "  <tbody>\n",
       "    <tr>\n",
       "      <th>0</th>\n",
       "      <td>1001</td>\n",
       "      <td>종로2가사거리</td>\n",
       "      <td>20240801</td>\n",
       "      <td>N37</td>\n",
       "      <td>N37번(송파공영차고지~진관공영차고지)</td>\n",
       "      <td>종로2가사거리(00032)</td>\n",
       "      <td>15</td>\n",
       "      <td>26</td>\n",
       "      <td>20240804</td>\n",
       "      <td>종로구</td>\n",
       "    </tr>\n",
       "    <tr>\n",
       "      <th>1</th>\n",
       "      <td>1001</td>\n",
       "      <td>종로2가사거리</td>\n",
       "      <td>20240801</td>\n",
       "      <td>N37</td>\n",
       "      <td>N37번(진관공영차고지~송파공영차고지)</td>\n",
       "      <td>종로2가사거리(00089)</td>\n",
       "      <td>13</td>\n",
       "      <td>11</td>\n",
       "      <td>20240804</td>\n",
       "      <td>종로구</td>\n",
       "    </tr>\n",
       "    <tr>\n",
       "      <th>2</th>\n",
       "      <td>1001</td>\n",
       "      <td>종로2가사거리</td>\n",
       "      <td>20240801</td>\n",
       "      <td>470</td>\n",
       "      <td>470번(상암차고지~안골마을)</td>\n",
       "      <td>종로2가사거리(00066)</td>\n",
       "      <td>296</td>\n",
       "      <td>288</td>\n",
       "      <td>20240804</td>\n",
       "      <td>종로구</td>\n",
       "    </tr>\n",
       "    <tr>\n",
       "      <th>3</th>\n",
       "      <td>1001</td>\n",
       "      <td>종로2가사거리</td>\n",
       "      <td>20240801</td>\n",
       "      <td>741</td>\n",
       "      <td>741번(진관차고지~헌인릉입구)</td>\n",
       "      <td>종로2가사거리(00075)</td>\n",
       "      <td>259</td>\n",
       "      <td>293</td>\n",
       "      <td>20240804</td>\n",
       "      <td>종로구</td>\n",
       "    </tr>\n",
       "    <tr>\n",
       "      <th>4</th>\n",
       "      <td>1001</td>\n",
       "      <td>종로2가사거리</td>\n",
       "      <td>20240802</td>\n",
       "      <td>N37</td>\n",
       "      <td>N37번(송파공영차고지~진관공영차고지)</td>\n",
       "      <td>종로2가사거리(00032)</td>\n",
       "      <td>12</td>\n",
       "      <td>5</td>\n",
       "      <td>20240805</td>\n",
       "      <td>종로구</td>\n",
       "    </tr>\n",
       "  </tbody>\n",
       "</table>\n",
       "</div>"
      ],
      "text/plain": [
       "   버스정류장ARS번호     정류소명      사용일자 노선번호                    노선명              역명  \\\n",
       "0        1001  종로2가사거리  20240801  N37  N37번(송파공영차고지~진관공영차고지)  종로2가사거리(00032)   \n",
       "1        1001  종로2가사거리  20240801  N37  N37번(진관공영차고지~송파공영차고지)  종로2가사거리(00089)   \n",
       "2        1001  종로2가사거리  20240801  470       470번(상암차고지~안골마을)  종로2가사거리(00066)   \n",
       "3        1001  종로2가사거리  20240801  741      741번(진관차고지~헌인릉입구)  종로2가사거리(00075)   \n",
       "4        1001  종로2가사거리  20240802  N37  N37번(송파공영차고지~진관공영차고지)  종로2가사거리(00032)   \n",
       "\n",
       "   승차총승객수  하차총승객수      등록일자  자치구  \n",
       "0      15      26  20240804  종로구  \n",
       "1      13      11  20240804  종로구  \n",
       "2     296     288  20240804  종로구  \n",
       "3     259     293  20240804  종로구  \n",
       "4      12       5  20240805  종로구  "
      ]
     },
     "execution_count": 45,
     "metadata": {},
     "output_type": "execute_result"
    }
   ],
   "source": [
    "# only_seoul, bus_station 데이터프레임 조인\n",
    "# 참고: '버스정류장ARS번호' 열이 조인 기준, how='inner' 지정\n",
    "tmp = pd.merge(only_seoul, bus_station, on='버스정류장ARS번호', how='inner')\n",
    "\n",
    "# 확인\n",
    "tmp.head()\n"
   ]
  },
  {
   "cell_type": "markdown",
   "id": "6d827beb-8cad-43b1-8273-aaf987e8d80d",
   "metadata": {
    "id": "6d827beb-8cad-43b1-8273-aaf987e8d80d"
   },
   "source": [
    "---\n",
    "### <font color=\"red\">[주의] </font> 실습5부터 실습8까지는 tmp 데이터프레임을 대상으로 집계를 수행합니다.\n",
    "---"
   ]
  },
  {
   "cell_type": "markdown",
   "id": "4ee95825-d091-4e70-9b35-0d0a61bdf47f",
   "metadata": {
    "id": "4ee95825-d091-4e70-9b35-0d0a61bdf47f"
   },
   "source": [
    "## [실습5] 구별 버스정류장 개수 확인\n",
    "\n",
    "- 자치구별 '버스정류장ARS번호' 개수를 집계하세요.\n",
    "- 집계 결과를 seoul_bus_station_ars 데이터프레임으로 선언하세요."
   ]
  },
  {
   "cell_type": "code",
   "execution_count": 48,
   "id": "62dbb217",
   "metadata": {
    "id": "62dbb217",
    "tags": []
   },
   "outputs": [
    {
     "data": {
      "text/html": [
       "<div>\n",
       "<style scoped>\n",
       "    .dataframe tbody tr th:only-of-type {\n",
       "        vertical-align: middle;\n",
       "    }\n",
       "\n",
       "    .dataframe tbody tr th {\n",
       "        vertical-align: top;\n",
       "    }\n",
       "\n",
       "    .dataframe thead th {\n",
       "        text-align: right;\n",
       "    }\n",
       "</style>\n",
       "<table border=\"1\" class=\"dataframe\">\n",
       "  <thead>\n",
       "    <tr style=\"text-align: right;\">\n",
       "      <th></th>\n",
       "      <th>자치구</th>\n",
       "      <th>버스정류장ARS번호</th>\n",
       "    </tr>\n",
       "  </thead>\n",
       "  <tbody>\n",
       "    <tr>\n",
       "      <th>0</th>\n",
       "      <td>강남구</td>\n",
       "      <td>502</td>\n",
       "    </tr>\n",
       "    <tr>\n",
       "      <th>1</th>\n",
       "      <td>강동구</td>\n",
       "      <td>376</td>\n",
       "    </tr>\n",
       "    <tr>\n",
       "      <th>2</th>\n",
       "      <td>강북구</td>\n",
       "      <td>410</td>\n",
       "    </tr>\n",
       "    <tr>\n",
       "      <th>3</th>\n",
       "      <td>강서구</td>\n",
       "      <td>565</td>\n",
       "    </tr>\n",
       "    <tr>\n",
       "      <th>4</th>\n",
       "      <td>관악구</td>\n",
       "      <td>465</td>\n",
       "    </tr>\n",
       "  </tbody>\n",
       "</table>\n",
       "</div>"
      ],
      "text/plain": [
       "   자치구  버스정류장ARS번호\n",
       "0  강남구         502\n",
       "1  강동구         376\n",
       "2  강북구         410\n",
       "3  강서구         565\n",
       "4  관악구         465"
      ]
     },
     "execution_count": 48,
     "metadata": {},
     "output_type": "execute_result"
    }
   ],
   "source": [
    "# 자치구별 '버스정류장ARS번호' 개수 집계 --> seoul_bus_station_ars 데이터프레임으로 선언\n",
    "# 참고: groupby() 메서드 사용, as_index=False 지정, nunique() 집계\n",
    "seoul_bus_station_ars = tmp.groupby('자치구', as_index=False)['버스정류장ARS번호'].nunique()\n",
    "\n",
    "# 확인\n",
    "seoul_bus_station_ars.head()\n"
   ]
  },
  {
   "cell_type": "markdown",
   "id": "5f6a3624-2b5e-4f78-93ab-e8416b79efac",
   "metadata": {
    "id": "5f6a3624-2b5e-4f78-93ab-e8416b79efac"
   },
   "source": [
    "- '버스정류장ARS번호' 열 이름을 '정류장수' 로 변경하세요."
   ]
  },
  {
   "cell_type": "code",
   "execution_count": 50,
   "id": "49c0334c-f1de-498e-b265-7d0890690b05",
   "metadata": {
    "id": "49c0334c-f1de-498e-b265-7d0890690b05",
    "tags": []
   },
   "outputs": [
    {
     "data": {
      "text/html": [
       "<div>\n",
       "<style scoped>\n",
       "    .dataframe tbody tr th:only-of-type {\n",
       "        vertical-align: middle;\n",
       "    }\n",
       "\n",
       "    .dataframe tbody tr th {\n",
       "        vertical-align: top;\n",
       "    }\n",
       "\n",
       "    .dataframe thead th {\n",
       "        text-align: right;\n",
       "    }\n",
       "</style>\n",
       "<table border=\"1\" class=\"dataframe\">\n",
       "  <thead>\n",
       "    <tr style=\"text-align: right;\">\n",
       "      <th></th>\n",
       "      <th>자치구</th>\n",
       "      <th>정류장수</th>\n",
       "    </tr>\n",
       "  </thead>\n",
       "  <tbody>\n",
       "    <tr>\n",
       "      <th>0</th>\n",
       "      <td>강남구</td>\n",
       "      <td>502</td>\n",
       "    </tr>\n",
       "    <tr>\n",
       "      <th>1</th>\n",
       "      <td>강동구</td>\n",
       "      <td>376</td>\n",
       "    </tr>\n",
       "    <tr>\n",
       "      <th>2</th>\n",
       "      <td>강북구</td>\n",
       "      <td>410</td>\n",
       "    </tr>\n",
       "    <tr>\n",
       "      <th>3</th>\n",
       "      <td>강서구</td>\n",
       "      <td>565</td>\n",
       "    </tr>\n",
       "    <tr>\n",
       "      <th>4</th>\n",
       "      <td>관악구</td>\n",
       "      <td>465</td>\n",
       "    </tr>\n",
       "  </tbody>\n",
       "</table>\n",
       "</div>"
      ],
      "text/plain": [
       "   자치구  정류장수\n",
       "0  강남구   502\n",
       "1  강동구   376\n",
       "2  강북구   410\n",
       "3  강서구   565\n",
       "4  관악구   465"
      ]
     },
     "execution_count": 50,
     "metadata": {},
     "output_type": "execute_result"
    }
   ],
   "source": [
    "# 열 이름 변경: '버스정류장ARS번호' --> '정류장수'\n",
    "# 참고: rename() 메서드 사용\n",
    "seoul_bus_station_ars.rename(columns={'버스정류장ARS번호': '정류장수'}, inplace=True)\n",
    "\n",
    "# 확인\n",
    "seoul_bus_station_ars.head()"
   ]
  },
  {
   "cell_type": "markdown",
   "id": "33564b09",
   "metadata": {
    "id": "33564b09"
   },
   "source": [
    "## [실습6] 구별 버스노선 개수 확인\n",
    "\n",
    "- 자치구별 '노선번호' 개수를 집계하세요.\n",
    "- 집계 결과를 seoul_bus_station_line 데이터프레임으로 선언하세요."
   ]
  },
  {
   "cell_type": "code",
   "execution_count": 52,
   "id": "5588cb7f",
   "metadata": {
    "id": "5588cb7f",
    "tags": []
   },
   "outputs": [
    {
     "data": {
      "text/html": [
       "<div>\n",
       "<style scoped>\n",
       "    .dataframe tbody tr th:only-of-type {\n",
       "        vertical-align: middle;\n",
       "    }\n",
       "\n",
       "    .dataframe tbody tr th {\n",
       "        vertical-align: top;\n",
       "    }\n",
       "\n",
       "    .dataframe thead th {\n",
       "        text-align: right;\n",
       "    }\n",
       "</style>\n",
       "<table border=\"1\" class=\"dataframe\">\n",
       "  <thead>\n",
       "    <tr style=\"text-align: right;\">\n",
       "      <th></th>\n",
       "      <th>자치구</th>\n",
       "      <th>노선번호</th>\n",
       "    </tr>\n",
       "  </thead>\n",
       "  <tbody>\n",
       "    <tr>\n",
       "      <th>15</th>\n",
       "      <td>성동구</td>\n",
       "      <td>58</td>\n",
       "    </tr>\n",
       "    <tr>\n",
       "      <th>16</th>\n",
       "      <td>성북구</td>\n",
       "      <td>100</td>\n",
       "    </tr>\n",
       "    <tr>\n",
       "      <th>17</th>\n",
       "      <td>송파구</td>\n",
       "      <td>62</td>\n",
       "    </tr>\n",
       "    <tr>\n",
       "      <th>18</th>\n",
       "      <td>양천구</td>\n",
       "      <td>57</td>\n",
       "    </tr>\n",
       "    <tr>\n",
       "      <th>19</th>\n",
       "      <td>영등포구</td>\n",
       "      <td>101</td>\n",
       "    </tr>\n",
       "    <tr>\n",
       "      <th>20</th>\n",
       "      <td>용산구</td>\n",
       "      <td>70</td>\n",
       "    </tr>\n",
       "    <tr>\n",
       "      <th>21</th>\n",
       "      <td>은평구</td>\n",
       "      <td>76</td>\n",
       "    </tr>\n",
       "    <tr>\n",
       "      <th>22</th>\n",
       "      <td>종로구</td>\n",
       "      <td>107</td>\n",
       "    </tr>\n",
       "    <tr>\n",
       "      <th>23</th>\n",
       "      <td>중구</td>\n",
       "      <td>102</td>\n",
       "    </tr>\n",
       "    <tr>\n",
       "      <th>24</th>\n",
       "      <td>중랑구</td>\n",
       "      <td>50</td>\n",
       "    </tr>\n",
       "  </tbody>\n",
       "</table>\n",
       "</div>"
      ],
      "text/plain": [
       "     자치구  노선번호\n",
       "15   성동구    58\n",
       "16   성북구   100\n",
       "17   송파구    62\n",
       "18   양천구    57\n",
       "19  영등포구   101\n",
       "20   용산구    70\n",
       "21   은평구    76\n",
       "22   종로구   107\n",
       "23    중구   102\n",
       "24   중랑구    50"
      ]
     },
     "execution_count": 52,
     "metadata": {},
     "output_type": "execute_result"
    }
   ],
   "source": [
    "# 자치구별 '노선번호' 개수 집계 --> seoul_bus_station_line 데이터프레임으로 선언\n",
    "# 참고: groupby() 메서드 사용, as_index=False 지정, nunique() 집계\n",
    "seoul_bus_station_line = tmp.groupby('자치구', as_index=False)['노선번호'].nunique()\n",
    "\n",
    "# 확인\n",
    "seoul_bus_station_line.tail(10)"
   ]
  },
  {
   "cell_type": "markdown",
   "id": "147f8164-6e51-4f87-83f5-c1f684219096",
   "metadata": {
    "id": "147f8164-6e51-4f87-83f5-c1f684219096"
   },
   "source": [
    "- '노선번호' 열 이름을 '노선수'로 변경하세요."
   ]
  },
  {
   "cell_type": "code",
   "execution_count": 54,
   "id": "b8301654-28c0-4e61-bcfa-2ccd5cb65fcb",
   "metadata": {
    "id": "b8301654-28c0-4e61-bcfa-2ccd5cb65fcb",
    "tags": []
   },
   "outputs": [
    {
     "data": {
      "text/html": [
       "<div>\n",
       "<style scoped>\n",
       "    .dataframe tbody tr th:only-of-type {\n",
       "        vertical-align: middle;\n",
       "    }\n",
       "\n",
       "    .dataframe tbody tr th {\n",
       "        vertical-align: top;\n",
       "    }\n",
       "\n",
       "    .dataframe thead th {\n",
       "        text-align: right;\n",
       "    }\n",
       "</style>\n",
       "<table border=\"1\" class=\"dataframe\">\n",
       "  <thead>\n",
       "    <tr style=\"text-align: right;\">\n",
       "      <th></th>\n",
       "      <th>자치구</th>\n",
       "      <th>노선수</th>\n",
       "    </tr>\n",
       "  </thead>\n",
       "  <tbody>\n",
       "    <tr>\n",
       "      <th>0</th>\n",
       "      <td>강남구</td>\n",
       "      <td>99</td>\n",
       "    </tr>\n",
       "    <tr>\n",
       "      <th>1</th>\n",
       "      <td>강동구</td>\n",
       "      <td>24</td>\n",
       "    </tr>\n",
       "    <tr>\n",
       "      <th>2</th>\n",
       "      <td>강북구</td>\n",
       "      <td>71</td>\n",
       "    </tr>\n",
       "    <tr>\n",
       "      <th>3</th>\n",
       "      <td>강서구</td>\n",
       "      <td>54</td>\n",
       "    </tr>\n",
       "    <tr>\n",
       "      <th>4</th>\n",
       "      <td>관악구</td>\n",
       "      <td>82</td>\n",
       "    </tr>\n",
       "    <tr>\n",
       "      <th>5</th>\n",
       "      <td>광진구</td>\n",
       "      <td>43</td>\n",
       "    </tr>\n",
       "    <tr>\n",
       "      <th>6</th>\n",
       "      <td>구로구</td>\n",
       "      <td>81</td>\n",
       "    </tr>\n",
       "    <tr>\n",
       "      <th>7</th>\n",
       "      <td>금천구</td>\n",
       "      <td>56</td>\n",
       "    </tr>\n",
       "    <tr>\n",
       "      <th>8</th>\n",
       "      <td>노원구</td>\n",
       "      <td>61</td>\n",
       "    </tr>\n",
       "    <tr>\n",
       "      <th>9</th>\n",
       "      <td>도봉구</td>\n",
       "      <td>57</td>\n",
       "    </tr>\n",
       "  </tbody>\n",
       "</table>\n",
       "</div>"
      ],
      "text/plain": [
       "   자치구  노선수\n",
       "0  강남구   99\n",
       "1  강동구   24\n",
       "2  강북구   71\n",
       "3  강서구   54\n",
       "4  관악구   82\n",
       "5  광진구   43\n",
       "6  구로구   81\n",
       "7  금천구   56\n",
       "8  노원구   61\n",
       "9  도봉구   57"
      ]
     },
     "execution_count": 54,
     "metadata": {},
     "output_type": "execute_result"
    }
   ],
   "source": [
    "# 열 이름 변경: '노선번호' --> '노선수'\n",
    "# 참고: rename() 메서드 사용\n",
    "seoul_bus_station_line.rename(columns={'노선번호': '노선수'}, inplace=True)\n",
    "\n",
    "# 확인\n",
    "seoul_bus_station_line.head(10)"
   ]
  },
  {
   "cell_type": "markdown",
   "id": "3666e46c",
   "metadata": {
    "id": "3666e46c"
   },
   "source": [
    "## [실습7] 구별 승차 총 승객수, 하차 총 승객수 구하기\n",
    "\n",
    "- 자치구별 '승차총승객수', '하차총승객수' 합을 집계하세요.\n",
    "- 집계 결과를 seoul_bus_station_sum 데이터프레임으로 선언하세요."
   ]
  },
  {
   "cell_type": "code",
   "execution_count": 56,
   "id": "1cdd246f",
   "metadata": {
    "id": "1cdd246f",
    "tags": []
   },
   "outputs": [
    {
     "data": {
      "text/html": [
       "<div>\n",
       "<style scoped>\n",
       "    .dataframe tbody tr th:only-of-type {\n",
       "        vertical-align: middle;\n",
       "    }\n",
       "\n",
       "    .dataframe tbody tr th {\n",
       "        vertical-align: top;\n",
       "    }\n",
       "\n",
       "    .dataframe thead th {\n",
       "        text-align: right;\n",
       "    }\n",
       "</style>\n",
       "<table border=\"1\" class=\"dataframe\">\n",
       "  <thead>\n",
       "    <tr style=\"text-align: right;\">\n",
       "      <th></th>\n",
       "      <th>자치구</th>\n",
       "      <th>승차총승객수</th>\n",
       "      <th>하차총승객수</th>\n",
       "    </tr>\n",
       "  </thead>\n",
       "  <tbody>\n",
       "    <tr>\n",
       "      <th>0</th>\n",
       "      <td>강남구</td>\n",
       "      <td>9113021</td>\n",
       "      <td>8640353</td>\n",
       "    </tr>\n",
       "    <tr>\n",
       "      <th>1</th>\n",
       "      <td>강동구</td>\n",
       "      <td>3306588</td>\n",
       "      <td>3242901</td>\n",
       "    </tr>\n",
       "    <tr>\n",
       "      <th>2</th>\n",
       "      <td>강북구</td>\n",
       "      <td>5244436</td>\n",
       "      <td>5077041</td>\n",
       "    </tr>\n",
       "    <tr>\n",
       "      <th>3</th>\n",
       "      <td>강서구</td>\n",
       "      <td>5244615</td>\n",
       "      <td>5218001</td>\n",
       "    </tr>\n",
       "    <tr>\n",
       "      <th>4</th>\n",
       "      <td>관악구</td>\n",
       "      <td>7691243</td>\n",
       "      <td>7850254</td>\n",
       "    </tr>\n",
       "    <tr>\n",
       "      <th>5</th>\n",
       "      <td>광진구</td>\n",
       "      <td>3207725</td>\n",
       "      <td>3228754</td>\n",
       "    </tr>\n",
       "    <tr>\n",
       "      <th>6</th>\n",
       "      <td>구로구</td>\n",
       "      <td>5525646</td>\n",
       "      <td>5324566</td>\n",
       "    </tr>\n",
       "    <tr>\n",
       "      <th>7</th>\n",
       "      <td>금천구</td>\n",
       "      <td>3990114</td>\n",
       "      <td>3839246</td>\n",
       "    </tr>\n",
       "    <tr>\n",
       "      <th>8</th>\n",
       "      <td>노원구</td>\n",
       "      <td>4609496</td>\n",
       "      <td>4535591</td>\n",
       "    </tr>\n",
       "    <tr>\n",
       "      <th>9</th>\n",
       "      <td>도봉구</td>\n",
       "      <td>3575712</td>\n",
       "      <td>3493061</td>\n",
       "    </tr>\n",
       "  </tbody>\n",
       "</table>\n",
       "</div>"
      ],
      "text/plain": [
       "   자치구   승차총승객수   하차총승객수\n",
       "0  강남구  9113021  8640353\n",
       "1  강동구  3306588  3242901\n",
       "2  강북구  5244436  5077041\n",
       "3  강서구  5244615  5218001\n",
       "4  관악구  7691243  7850254\n",
       "5  광진구  3207725  3228754\n",
       "6  구로구  5525646  5324566\n",
       "7  금천구  3990114  3839246\n",
       "8  노원구  4609496  4535591\n",
       "9  도봉구  3575712  3493061"
      ]
     },
     "execution_count": 56,
     "metadata": {},
     "output_type": "execute_result"
    }
   ],
   "source": [
    "# 자치구별 '승차총승객수', '하차총승객수' 합 집계 --> seoul_bus_station_sum 데이터프레임으로 선언\n",
    "# 참고: groupby() 메서드 사용, as_index=False 지정, sum() 집계\n",
    "seoul_bus_station_sum = tmp.groupby('자치구', as_index=False)[['승차총승객수', '하차총승객수']].sum()\n",
    "\n",
    "# 확인\n",
    "seoul_bus_station_sum.head(10)\n"
   ]
  },
  {
   "cell_type": "markdown",
   "id": "a3dcb6d4",
   "metadata": {
    "id": "a3dcb6d4"
   },
   "source": [
    "## [실습8] 구별 승차 평균 승객수, 하차 평균 승객수 구하기\n",
    "\n",
    "- 자치구별 '승차총승객수', '하차총승객수' 평균을 집계하세요.\n",
    "- 집계 결과를 seoul_bus_station_mean 데이터프레임으로 선언하세요."
   ]
  },
  {
   "cell_type": "code",
   "execution_count": 58,
   "id": "ad901b47",
   "metadata": {
    "id": "ad901b47",
    "tags": []
   },
   "outputs": [
    {
     "data": {
      "text/html": [
       "<div>\n",
       "<style scoped>\n",
       "    .dataframe tbody tr th:only-of-type {\n",
       "        vertical-align: middle;\n",
       "    }\n",
       "\n",
       "    .dataframe tbody tr th {\n",
       "        vertical-align: top;\n",
       "    }\n",
       "\n",
       "    .dataframe thead th {\n",
       "        text-align: right;\n",
       "    }\n",
       "</style>\n",
       "<table border=\"1\" class=\"dataframe\">\n",
       "  <thead>\n",
       "    <tr style=\"text-align: right;\">\n",
       "      <th></th>\n",
       "      <th>자치구</th>\n",
       "      <th>승차총승객수</th>\n",
       "      <th>하차총승객수</th>\n",
       "    </tr>\n",
       "  </thead>\n",
       "  <tbody>\n",
       "    <tr>\n",
       "      <th>0</th>\n",
       "      <td>강남구</td>\n",
       "      <td>135.163908</td>\n",
       "      <td>128.153318</td>\n",
       "    </tr>\n",
       "    <tr>\n",
       "      <th>1</th>\n",
       "      <td>강동구</td>\n",
       "      <td>94.638885</td>\n",
       "      <td>92.816079</td>\n",
       "    </tr>\n",
       "    <tr>\n",
       "      <th>2</th>\n",
       "      <td>강북구</td>\n",
       "      <td>138.244306</td>\n",
       "      <td>133.831743</td>\n",
       "    </tr>\n",
       "    <tr>\n",
       "      <th>3</th>\n",
       "      <td>강서구</td>\n",
       "      <td>93.106837</td>\n",
       "      <td>92.634362</td>\n",
       "    </tr>\n",
       "    <tr>\n",
       "      <th>4</th>\n",
       "      <td>관악구</td>\n",
       "      <td>147.777793</td>\n",
       "      <td>150.832994</td>\n",
       "    </tr>\n",
       "  </tbody>\n",
       "</table>\n",
       "</div>"
      ],
      "text/plain": [
       "   자치구      승차총승객수      하차총승객수\n",
       "0  강남구  135.163908  128.153318\n",
       "1  강동구   94.638885   92.816079\n",
       "2  강북구  138.244306  133.831743\n",
       "3  강서구   93.106837   92.634362\n",
       "4  관악구  147.777793  150.832994"
      ]
     },
     "execution_count": 58,
     "metadata": {},
     "output_type": "execute_result"
    }
   ],
   "source": [
    "# 자치구별 '승차총승객수', '하차총승객수' 평균 집계 --> seoul_bus_station_mean 데이터프레임으로 선언\n",
    "# 참고: groupby() 메서드 사용, as_index=False 지정, mean() 집계\n",
    "seoul_bus_station_mean = tmp.groupby('자치구', as_index=False)[['승차총승객수', '하차총승객수']].mean()\n",
    "\n",
    "# 확인\n",
    "seoul_bus_station_mean.head()\n"
   ]
  },
  {
   "cell_type": "markdown",
   "id": "83968082-1183-4a33-ab24-7cf79c281b61",
   "metadata": {
    "id": "83968082-1183-4a33-ab24-7cf79c281b61"
   },
   "source": [
    "- 다음과 같이 seoul_bus_station_mean 데이터프레임의 열 이름을 변경하세요.\n",
    "    - '승차총승객수' --> '승차평균승객수', '하차총승객수' --> '하차평균승객수'"
   ]
  },
  {
   "cell_type": "code",
   "execution_count": 60,
   "id": "5c38edd7-f6ec-4723-b840-a146b50868df",
   "metadata": {
    "id": "5c38edd7-f6ec-4723-b840-a146b50868df"
   },
   "outputs": [
    {
     "data": {
      "text/html": [
       "<div>\n",
       "<style scoped>\n",
       "    .dataframe tbody tr th:only-of-type {\n",
       "        vertical-align: middle;\n",
       "    }\n",
       "\n",
       "    .dataframe tbody tr th {\n",
       "        vertical-align: top;\n",
       "    }\n",
       "\n",
       "    .dataframe thead th {\n",
       "        text-align: right;\n",
       "    }\n",
       "</style>\n",
       "<table border=\"1\" class=\"dataframe\">\n",
       "  <thead>\n",
       "    <tr style=\"text-align: right;\">\n",
       "      <th></th>\n",
       "      <th>자치구</th>\n",
       "      <th>승차평균승객수</th>\n",
       "      <th>하차평균승객수</th>\n",
       "    </tr>\n",
       "  </thead>\n",
       "  <tbody>\n",
       "    <tr>\n",
       "      <th>0</th>\n",
       "      <td>강남구</td>\n",
       "      <td>135.163908</td>\n",
       "      <td>128.153318</td>\n",
       "    </tr>\n",
       "    <tr>\n",
       "      <th>1</th>\n",
       "      <td>강동구</td>\n",
       "      <td>94.638885</td>\n",
       "      <td>92.816079</td>\n",
       "    </tr>\n",
       "    <tr>\n",
       "      <th>2</th>\n",
       "      <td>강북구</td>\n",
       "      <td>138.244306</td>\n",
       "      <td>133.831743</td>\n",
       "    </tr>\n",
       "    <tr>\n",
       "      <th>3</th>\n",
       "      <td>강서구</td>\n",
       "      <td>93.106837</td>\n",
       "      <td>92.634362</td>\n",
       "    </tr>\n",
       "    <tr>\n",
       "      <th>4</th>\n",
       "      <td>관악구</td>\n",
       "      <td>147.777793</td>\n",
       "      <td>150.832994</td>\n",
       "    </tr>\n",
       "  </tbody>\n",
       "</table>\n",
       "</div>"
      ],
      "text/plain": [
       "   자치구     승차평균승객수     하차평균승객수\n",
       "0  강남구  135.163908  128.153318\n",
       "1  강동구   94.638885   92.816079\n",
       "2  강북구  138.244306  133.831743\n",
       "3  강서구   93.106837   92.634362\n",
       "4  관악구  147.777793  150.832994"
      ]
     },
     "execution_count": 60,
     "metadata": {},
     "output_type": "execute_result"
    }
   ],
   "source": [
    "# 열 이름 변경: '승차총승객수' --> '승차평균승객수', '하차총승객수' --> '하차평균승객수'\n",
    "# 참고: rename() 메서드 사용\n",
    "seoul_bus_station_mean.rename(columns={'승차총승객수': '승차평균승객수'}, inplace=True)\n",
    "seoul_bus_station_mean.rename(columns={'하차총승객수': '하차평균승객수'}, inplace=True)\n",
    "\n",
    "# 확인\n",
    "seoul_bus_station_mean.head()"
   ]
  },
  {
   "cell_type": "markdown",
   "id": "7f329891",
   "metadata": {
    "id": "7f329891"
   },
   "source": [
    "## [실습9] 데이터 프레임 합치기\n",
    "\n",
    "- 위 과정에서 만들어진 다음 4개 데이터프레임을 조인(merge)하세요.\n",
    "    - seoul_bus_station_ars\n",
    "    - seoul_bus_station_line\n",
    "    - seoul_bus_station_sum\n",
    "    - seoul_bus_station_mean\n",
    "- 조인 결과를 seoul_bus_station 데이터프레임으로 선언하세요."
   ]
  },
  {
   "cell_type": "code",
   "execution_count": 62,
   "id": "dc284dfd",
   "metadata": {
    "id": "dc284dfd",
    "tags": []
   },
   "outputs": [
    {
     "data": {
      "text/html": [
       "<div>\n",
       "<style scoped>\n",
       "    .dataframe tbody tr th:only-of-type {\n",
       "        vertical-align: middle;\n",
       "    }\n",
       "\n",
       "    .dataframe tbody tr th {\n",
       "        vertical-align: top;\n",
       "    }\n",
       "\n",
       "    .dataframe thead th {\n",
       "        text-align: right;\n",
       "    }\n",
       "</style>\n",
       "<table border=\"1\" class=\"dataframe\">\n",
       "  <thead>\n",
       "    <tr style=\"text-align: right;\">\n",
       "      <th></th>\n",
       "      <th>자치구</th>\n",
       "      <th>정류장수</th>\n",
       "      <th>노선수</th>\n",
       "      <th>승차총승객수</th>\n",
       "      <th>하차총승객수</th>\n",
       "      <th>승차평균승객수</th>\n",
       "      <th>하차평균승객수</th>\n",
       "    </tr>\n",
       "  </thead>\n",
       "  <tbody>\n",
       "    <tr>\n",
       "      <th>0</th>\n",
       "      <td>강남구</td>\n",
       "      <td>502</td>\n",
       "      <td>99</td>\n",
       "      <td>9113021</td>\n",
       "      <td>8640353</td>\n",
       "      <td>135.163908</td>\n",
       "      <td>128.153318</td>\n",
       "    </tr>\n",
       "    <tr>\n",
       "      <th>1</th>\n",
       "      <td>강동구</td>\n",
       "      <td>376</td>\n",
       "      <td>24</td>\n",
       "      <td>3306588</td>\n",
       "      <td>3242901</td>\n",
       "      <td>94.638885</td>\n",
       "      <td>92.816079</td>\n",
       "    </tr>\n",
       "    <tr>\n",
       "      <th>2</th>\n",
       "      <td>강북구</td>\n",
       "      <td>410</td>\n",
       "      <td>71</td>\n",
       "      <td>5244436</td>\n",
       "      <td>5077041</td>\n",
       "      <td>138.244306</td>\n",
       "      <td>133.831743</td>\n",
       "    </tr>\n",
       "    <tr>\n",
       "      <th>3</th>\n",
       "      <td>강서구</td>\n",
       "      <td>565</td>\n",
       "      <td>54</td>\n",
       "      <td>5244615</td>\n",
       "      <td>5218001</td>\n",
       "      <td>93.106837</td>\n",
       "      <td>92.634362</td>\n",
       "    </tr>\n",
       "    <tr>\n",
       "      <th>4</th>\n",
       "      <td>관악구</td>\n",
       "      <td>465</td>\n",
       "      <td>82</td>\n",
       "      <td>7691243</td>\n",
       "      <td>7850254</td>\n",
       "      <td>147.777793</td>\n",
       "      <td>150.832994</td>\n",
       "    </tr>\n",
       "  </tbody>\n",
       "</table>\n",
       "</div>"
      ],
      "text/plain": [
       "   자치구  정류장수  노선수   승차총승객수   하차총승객수     승차평균승객수     하차평균승객수\n",
       "0  강남구   502   99  9113021  8640353  135.163908  128.153318\n",
       "1  강동구   376   24  3306588  3242901   94.638885   92.816079\n",
       "2  강북구   410   71  5244436  5077041  138.244306  133.831743\n",
       "3  강서구   565   54  5244615  5218001   93.106837   92.634362\n",
       "4  관악구   465   82  7691243  7850254  147.777793  150.832994"
      ]
     },
     "execution_count": 62,
     "metadata": {},
     "output_type": "execute_result"
    }
   ],
   "source": [
    "# 4개 데이터프레임 조인\n",
    "# 참고: pd.merge() 함수를 3번 사용해야 함\n",
    "# 참고: '자치구' 열이 조인 기준, how='inner' 지정\n",
    "bus = pd.merge(seoul_bus_station_ars, seoul_bus_station_line, how='inner', on='자치구')\n",
    "bus = pd.merge(bus, seoul_bus_station_sum, how='inner', on='자치구')\n",
    "seoul_bus_station = pd.merge(bus, seoul_bus_station_mean, how='inner', on='자치구')\n",
    "\n",
    "# 확인\n",
    "seoul_bus_station.head()"
   ]
  },
  {
   "cell_type": "markdown",
   "id": "3100e73f-9069-4b70-8c6c-f8dff6e4dad6",
   "metadata": {
    "id": "3100e73f-9069-4b70-8c6c-f8dff6e4dad6"
   },
   "source": [
    "- 다음과 같이 seoul_bus_station 데이터프레임의 열 이름을 변경하세요\n",
    "    - '버스정류장ARS번호' --> '정류장수', '노선번호' --> '노선수'"
   ]
  },
  {
   "cell_type": "code",
   "execution_count": 64,
   "id": "0f4a0eca",
   "metadata": {
    "id": "0f4a0eca",
    "tags": []
   },
   "outputs": [
    {
     "data": {
      "text/html": [
       "<div>\n",
       "<style scoped>\n",
       "    .dataframe tbody tr th:only-of-type {\n",
       "        vertical-align: middle;\n",
       "    }\n",
       "\n",
       "    .dataframe tbody tr th {\n",
       "        vertical-align: top;\n",
       "    }\n",
       "\n",
       "    .dataframe thead th {\n",
       "        text-align: right;\n",
       "    }\n",
       "</style>\n",
       "<table border=\"1\" class=\"dataframe\">\n",
       "  <thead>\n",
       "    <tr style=\"text-align: right;\">\n",
       "      <th></th>\n",
       "      <th>자치구</th>\n",
       "      <th>정류장수</th>\n",
       "      <th>노선수</th>\n",
       "      <th>승차총승객수</th>\n",
       "      <th>하차총승객수</th>\n",
       "      <th>승차평균승객수</th>\n",
       "      <th>하차평균승객수</th>\n",
       "    </tr>\n",
       "  </thead>\n",
       "  <tbody>\n",
       "    <tr>\n",
       "      <th>0</th>\n",
       "      <td>강남구</td>\n",
       "      <td>502</td>\n",
       "      <td>99</td>\n",
       "      <td>9113021</td>\n",
       "      <td>8640353</td>\n",
       "      <td>135.163908</td>\n",
       "      <td>128.153318</td>\n",
       "    </tr>\n",
       "    <tr>\n",
       "      <th>1</th>\n",
       "      <td>강동구</td>\n",
       "      <td>376</td>\n",
       "      <td>24</td>\n",
       "      <td>3306588</td>\n",
       "      <td>3242901</td>\n",
       "      <td>94.638885</td>\n",
       "      <td>92.816079</td>\n",
       "    </tr>\n",
       "    <tr>\n",
       "      <th>2</th>\n",
       "      <td>강북구</td>\n",
       "      <td>410</td>\n",
       "      <td>71</td>\n",
       "      <td>5244436</td>\n",
       "      <td>5077041</td>\n",
       "      <td>138.244306</td>\n",
       "      <td>133.831743</td>\n",
       "    </tr>\n",
       "    <tr>\n",
       "      <th>3</th>\n",
       "      <td>강서구</td>\n",
       "      <td>565</td>\n",
       "      <td>54</td>\n",
       "      <td>5244615</td>\n",
       "      <td>5218001</td>\n",
       "      <td>93.106837</td>\n",
       "      <td>92.634362</td>\n",
       "    </tr>\n",
       "    <tr>\n",
       "      <th>4</th>\n",
       "      <td>관악구</td>\n",
       "      <td>465</td>\n",
       "      <td>82</td>\n",
       "      <td>7691243</td>\n",
       "      <td>7850254</td>\n",
       "      <td>147.777793</td>\n",
       "      <td>150.832994</td>\n",
       "    </tr>\n",
       "  </tbody>\n",
       "</table>\n",
       "</div>"
      ],
      "text/plain": [
       "   자치구  정류장수  노선수   승차총승객수   하차총승객수     승차평균승객수     하차평균승객수\n",
       "0  강남구   502   99  9113021  8640353  135.163908  128.153318\n",
       "1  강동구   376   24  3306588  3242901   94.638885   92.816079\n",
       "2  강북구   410   71  5244436  5077041  138.244306  133.831743\n",
       "3  강서구   565   54  5244615  5218001   93.106837   92.634362\n",
       "4  관악구   465   82  7691243  7850254  147.777793  150.832994"
      ]
     },
     "execution_count": 64,
     "metadata": {},
     "output_type": "execute_result"
    }
   ],
   "source": [
    "# 열 이름 변경: '버스정류장ARS번호' --> '정류장수', '노선번호' --> '노선수'\n",
    "# 참고: rename() 메서드 사용\n",
    "seoul_bus_station.rename(columns={'버스정류장ARS번호': '정류장수'}, inplace=True)\n",
    "seoul_bus_station.rename(columns={'노선번호': '노선수'}, inplace=True)\n",
    "\n",
    "# 롹인\n",
    "seoul_bus_station.head()"
   ]
  },
  {
   "cell_type": "markdown",
   "id": "6b3c935a-602b-4ad0-b9a0-4effa2f94a13",
   "metadata": {
    "id": "6b3c935a-602b-4ad0-b9a0-4effa2f94a13"
   },
   "source": [
    "- seoul_bus_station 데이터프레임을 df_seoul_bus_station.csv 파일로 저장하세요."
   ]
  },
  {
   "cell_type": "code",
   "execution_count": 66,
   "id": "97d0cc3f",
   "metadata": {
    "id": "97d0cc3f",
    "tags": []
   },
   "outputs": [],
   "source": [
    "# csv 파일로 데이터프레임 저장 (파일명: df_seoul_bus_station.csv)\n",
    "# 참고: to_csv() 메서드를 사용, index=False 지정\n",
    "seoul_bus_station.to_csv(path + 'df_seoul_bus_station.csv', index=False)"
   ]
  },
  {
   "cell_type": "code",
   "execution_count": 67,
   "id": "eb1af4aa-29db-4e7a-bd26-6e4e8b5ee3a1",
   "metadata": {},
   "outputs": [
    {
     "data": {
      "text/html": [
       "<div>\n",
       "<style scoped>\n",
       "    .dataframe tbody tr th:only-of-type {\n",
       "        vertical-align: middle;\n",
       "    }\n",
       "\n",
       "    .dataframe tbody tr th {\n",
       "        vertical-align: top;\n",
       "    }\n",
       "\n",
       "    .dataframe thead th {\n",
       "        text-align: right;\n",
       "    }\n",
       "</style>\n",
       "<table border=\"1\" class=\"dataframe\">\n",
       "  <thead>\n",
       "    <tr style=\"text-align: right;\">\n",
       "      <th></th>\n",
       "      <th>자치구</th>\n",
       "      <th>정류장수</th>\n",
       "      <th>노선수</th>\n",
       "      <th>승차총승객수</th>\n",
       "      <th>하차총승객수</th>\n",
       "      <th>승차평균승객수</th>\n",
       "      <th>하차평균승객수</th>\n",
       "    </tr>\n",
       "  </thead>\n",
       "  <tbody>\n",
       "    <tr>\n",
       "      <th>0</th>\n",
       "      <td>강남구</td>\n",
       "      <td>502</td>\n",
       "      <td>99</td>\n",
       "      <td>9113021</td>\n",
       "      <td>8640353</td>\n",
       "      <td>135.163908</td>\n",
       "      <td>128.153318</td>\n",
       "    </tr>\n",
       "    <tr>\n",
       "      <th>1</th>\n",
       "      <td>강동구</td>\n",
       "      <td>376</td>\n",
       "      <td>24</td>\n",
       "      <td>3306588</td>\n",
       "      <td>3242901</td>\n",
       "      <td>94.638885</td>\n",
       "      <td>92.816079</td>\n",
       "    </tr>\n",
       "    <tr>\n",
       "      <th>2</th>\n",
       "      <td>강북구</td>\n",
       "      <td>410</td>\n",
       "      <td>71</td>\n",
       "      <td>5244436</td>\n",
       "      <td>5077041</td>\n",
       "      <td>138.244306</td>\n",
       "      <td>133.831743</td>\n",
       "    </tr>\n",
       "    <tr>\n",
       "      <th>3</th>\n",
       "      <td>강서구</td>\n",
       "      <td>565</td>\n",
       "      <td>54</td>\n",
       "      <td>5244615</td>\n",
       "      <td>5218001</td>\n",
       "      <td>93.106837</td>\n",
       "      <td>92.634362</td>\n",
       "    </tr>\n",
       "    <tr>\n",
       "      <th>4</th>\n",
       "      <td>관악구</td>\n",
       "      <td>465</td>\n",
       "      <td>82</td>\n",
       "      <td>7691243</td>\n",
       "      <td>7850254</td>\n",
       "      <td>147.777793</td>\n",
       "      <td>150.832994</td>\n",
       "    </tr>\n",
       "    <tr>\n",
       "      <th>5</th>\n",
       "      <td>광진구</td>\n",
       "      <td>278</td>\n",
       "      <td>43</td>\n",
       "      <td>3207725</td>\n",
       "      <td>3228754</td>\n",
       "      <td>118.756247</td>\n",
       "      <td>119.534782</td>\n",
       "    </tr>\n",
       "    <tr>\n",
       "      <th>6</th>\n",
       "      <td>구로구</td>\n",
       "      <td>478</td>\n",
       "      <td>81</td>\n",
       "      <td>5525646</td>\n",
       "      <td>5324566</td>\n",
       "      <td>125.119353</td>\n",
       "      <td>120.566221</td>\n",
       "    </tr>\n",
       "    <tr>\n",
       "      <th>7</th>\n",
       "      <td>금천구</td>\n",
       "      <td>344</td>\n",
       "      <td>56</td>\n",
       "      <td>3990114</td>\n",
       "      <td>3839246</td>\n",
       "      <td>129.954208</td>\n",
       "      <td>125.040581</td>\n",
       "    </tr>\n",
       "    <tr>\n",
       "      <th>8</th>\n",
       "      <td>노원구</td>\n",
       "      <td>495</td>\n",
       "      <td>61</td>\n",
       "      <td>4609496</td>\n",
       "      <td>4535591</td>\n",
       "      <td>88.736303</td>\n",
       "      <td>87.313576</td>\n",
       "    </tr>\n",
       "    <tr>\n",
       "      <th>9</th>\n",
       "      <td>도봉구</td>\n",
       "      <td>366</td>\n",
       "      <td>57</td>\n",
       "      <td>3575712</td>\n",
       "      <td>3493061</td>\n",
       "      <td>110.579911</td>\n",
       "      <td>108.023905</td>\n",
       "    </tr>\n",
       "    <tr>\n",
       "      <th>10</th>\n",
       "      <td>동대문구</td>\n",
       "      <td>309</td>\n",
       "      <td>75</td>\n",
       "      <td>5887202</td>\n",
       "      <td>5770880</td>\n",
       "      <td>135.506192</td>\n",
       "      <td>132.828799</td>\n",
       "    </tr>\n",
       "    <tr>\n",
       "      <th>11</th>\n",
       "      <td>동작구</td>\n",
       "      <td>435</td>\n",
       "      <td>94</td>\n",
       "      <td>5483153</td>\n",
       "      <td>5292264</td>\n",
       "      <td>120.561851</td>\n",
       "      <td>116.364644</td>\n",
       "    </tr>\n",
       "    <tr>\n",
       "      <th>12</th>\n",
       "      <td>마포구</td>\n",
       "      <td>561</td>\n",
       "      <td>102</td>\n",
       "      <td>6118596</td>\n",
       "      <td>5943912</td>\n",
       "      <td>107.157674</td>\n",
       "      <td>104.098355</td>\n",
       "    </tr>\n",
       "    <tr>\n",
       "      <th>13</th>\n",
       "      <td>서대문구</td>\n",
       "      <td>456</td>\n",
       "      <td>109</td>\n",
       "      <td>6635861</td>\n",
       "      <td>6554692</td>\n",
       "      <td>114.108419</td>\n",
       "      <td>112.712659</td>\n",
       "    </tr>\n",
       "    <tr>\n",
       "      <th>14</th>\n",
       "      <td>서초구</td>\n",
       "      <td>602</td>\n",
       "      <td>105</td>\n",
       "      <td>7776846</td>\n",
       "      <td>7575195</td>\n",
       "      <td>125.081964</td>\n",
       "      <td>121.838630</td>\n",
       "    </tr>\n",
       "    <tr>\n",
       "      <th>15</th>\n",
       "      <td>성동구</td>\n",
       "      <td>432</td>\n",
       "      <td>58</td>\n",
       "      <td>3185165</td>\n",
       "      <td>3134742</td>\n",
       "      <td>100.742164</td>\n",
       "      <td>99.147357</td>\n",
       "    </tr>\n",
       "    <tr>\n",
       "      <th>16</th>\n",
       "      <td>성북구</td>\n",
       "      <td>596</td>\n",
       "      <td>100</td>\n",
       "      <td>6610774</td>\n",
       "      <td>6642472</td>\n",
       "      <td>116.676503</td>\n",
       "      <td>117.235955</td>\n",
       "    </tr>\n",
       "    <tr>\n",
       "      <th>17</th>\n",
       "      <td>송파구</td>\n",
       "      <td>476</td>\n",
       "      <td>62</td>\n",
       "      <td>6172655</td>\n",
       "      <td>6176516</td>\n",
       "      <td>107.372930</td>\n",
       "      <td>107.440092</td>\n",
       "    </tr>\n",
       "    <tr>\n",
       "      <th>18</th>\n",
       "      <td>양천구</td>\n",
       "      <td>319</td>\n",
       "      <td>57</td>\n",
       "      <td>4483720</td>\n",
       "      <td>4310824</td>\n",
       "      <td>102.428839</td>\n",
       "      <td>98.479097</td>\n",
       "    </tr>\n",
       "    <tr>\n",
       "      <th>19</th>\n",
       "      <td>영등포구</td>\n",
       "      <td>466</td>\n",
       "      <td>101</td>\n",
       "      <td>6555386</td>\n",
       "      <td>6611792</td>\n",
       "      <td>125.327611</td>\n",
       "      <td>126.405995</td>\n",
       "    </tr>\n",
       "    <tr>\n",
       "      <th>20</th>\n",
       "      <td>용산구</td>\n",
       "      <td>325</td>\n",
       "      <td>70</td>\n",
       "      <td>4764100</td>\n",
       "      <td>4663071</td>\n",
       "      <td>136.082150</td>\n",
       "      <td>133.196350</td>\n",
       "    </tr>\n",
       "    <tr>\n",
       "      <th>21</th>\n",
       "      <td>은평구</td>\n",
       "      <td>494</td>\n",
       "      <td>76</td>\n",
       "      <td>5723211</td>\n",
       "      <td>5636929</td>\n",
       "      <td>103.491998</td>\n",
       "      <td>101.931773</td>\n",
       "    </tr>\n",
       "    <tr>\n",
       "      <th>22</th>\n",
       "      <td>종로구</td>\n",
       "      <td>359</td>\n",
       "      <td>107</td>\n",
       "      <td>6030756</td>\n",
       "      <td>5793573</td>\n",
       "      <td>136.745635</td>\n",
       "      <td>131.367580</td>\n",
       "    </tr>\n",
       "    <tr>\n",
       "      <th>23</th>\n",
       "      <td>중구</td>\n",
       "      <td>172</td>\n",
       "      <td>102</td>\n",
       "      <td>4384564</td>\n",
       "      <td>4238810</td>\n",
       "      <td>132.192595</td>\n",
       "      <td>127.798179</td>\n",
       "    </tr>\n",
       "    <tr>\n",
       "      <th>24</th>\n",
       "      <td>중랑구</td>\n",
       "      <td>384</td>\n",
       "      <td>50</td>\n",
       "      <td>4220995</td>\n",
       "      <td>4167084</td>\n",
       "      <td>83.242846</td>\n",
       "      <td>82.179660</td>\n",
       "    </tr>\n",
       "  </tbody>\n",
       "</table>\n",
       "</div>"
      ],
      "text/plain": [
       "     자치구  정류장수  노선수   승차총승객수   하차총승객수     승차평균승객수     하차평균승객수\n",
       "0    강남구   502   99  9113021  8640353  135.163908  128.153318\n",
       "1    강동구   376   24  3306588  3242901   94.638885   92.816079\n",
       "2    강북구   410   71  5244436  5077041  138.244306  133.831743\n",
       "3    강서구   565   54  5244615  5218001   93.106837   92.634362\n",
       "4    관악구   465   82  7691243  7850254  147.777793  150.832994\n",
       "5    광진구   278   43  3207725  3228754  118.756247  119.534782\n",
       "6    구로구   478   81  5525646  5324566  125.119353  120.566221\n",
       "7    금천구   344   56  3990114  3839246  129.954208  125.040581\n",
       "8    노원구   495   61  4609496  4535591   88.736303   87.313576\n",
       "9    도봉구   366   57  3575712  3493061  110.579911  108.023905\n",
       "10  동대문구   309   75  5887202  5770880  135.506192  132.828799\n",
       "11   동작구   435   94  5483153  5292264  120.561851  116.364644\n",
       "12   마포구   561  102  6118596  5943912  107.157674  104.098355\n",
       "13  서대문구   456  109  6635861  6554692  114.108419  112.712659\n",
       "14   서초구   602  105  7776846  7575195  125.081964  121.838630\n",
       "15   성동구   432   58  3185165  3134742  100.742164   99.147357\n",
       "16   성북구   596  100  6610774  6642472  116.676503  117.235955\n",
       "17   송파구   476   62  6172655  6176516  107.372930  107.440092\n",
       "18   양천구   319   57  4483720  4310824  102.428839   98.479097\n",
       "19  영등포구   466  101  6555386  6611792  125.327611  126.405995\n",
       "20   용산구   325   70  4764100  4663071  136.082150  133.196350\n",
       "21   은평구   494   76  5723211  5636929  103.491998  101.931773\n",
       "22   종로구   359  107  6030756  5793573  136.745635  131.367580\n",
       "23    중구   172  102  4384564  4238810  132.192595  127.798179\n",
       "24   중랑구   384   50  4220995  4167084   83.242846   82.179660"
      ]
     },
     "execution_count": 67,
     "metadata": {},
     "output_type": "execute_result"
    }
   ],
   "source": [
    "# csv 파일 확인\n",
    "df_seoul_bus_station = pd.read_csv(path + 'df_seoul_bus_station.csv')\n",
    "df_seoul_bus_station"
   ]
  },
  {
   "cell_type": "markdown",
   "id": "602b8bae",
   "metadata": {
    "id": "602b8bae"
   },
   "source": [
    "---"
   ]
  },
  {
   "cell_type": "code",
   "execution_count": 69,
   "id": "6657c32c-96a4-4592-b32f-b5ccab7ea89a",
   "metadata": {},
   "outputs": [
    {
     "name": "stdout",
     "output_type": "stream",
     "text": [
      "자치구         object\n",
      "정류장수         int64\n",
      "노선수          int64\n",
      "승차총승객수       int64\n",
      "하차총승객수       int64\n",
      "승차평균승객수    float64\n",
      "하차평균승객수    float64\n",
      "dtype: object\n"
     ]
    }
   ],
   "source": [
    "print(df_seoul_bus_station.dtypes)"
   ]
  },
  {
   "cell_type": "markdown",
   "id": "426765a9-f012-4eed-9e4e-706a54e29d79",
   "metadata": {
    "id": "426765a9-f012-4eed-9e4e-706a54e29d79"
   },
   "source": [
    "# 3. 데이터 분석\n",
    "\n",
    "- 다양한 분석 과정을 통해 인사이트를 도출하세요."
   ]
  },
  {
   "cell_type": "markdown",
   "id": "0b75a6db-2f92-4a48-b274-48fc2e13e7db",
   "metadata": {
    "id": "0b75a6db-2f92-4a48-b274-48fc2e13e7db"
   },
   "source": [
    "## [실습10] 시각화 분석\n",
    "\n",
    "- 다양한 열를 기준으로 그래프를 그려보고 인사이트를 도출해보세요."
   ]
  },
  {
   "cell_type": "code",
   "execution_count": 72,
   "id": "842476c7-2409-4dc9-b391-27ea3e39b6f8",
   "metadata": {
    "id": "842476c7-2409-4dc9-b391-27ea3e39b6f8"
   },
   "outputs": [
    {
     "ename": "NameError",
     "evalue": "name 'sns' is not defined",
     "output_type": "error",
     "traceback": [
      "\u001b[1;31m---------------------------------------------------------------------------\u001b[0m",
      "\u001b[1;31mNameError\u001b[0m                                 Traceback (most recent call last)",
      "Cell \u001b[1;32mIn[72], line 9\u001b[0m\n\u001b[0;32m      7\u001b[0m \u001b[38;5;66;03m# 그래프 그리기\u001b[39;00m\n\u001b[0;32m      8\u001b[0m plt\u001b[38;5;241m.\u001b[39mfigure(figsize\u001b[38;5;241m=\u001b[39m(\u001b[38;5;241m12\u001b[39m, \u001b[38;5;241m6\u001b[39m))\n\u001b[1;32m----> 9\u001b[0m sns\u001b[38;5;241m.\u001b[39mbarplot(data\u001b[38;5;241m=\u001b[39mdf_melted, x\u001b[38;5;241m=\u001b[39m\u001b[38;5;124m'\u001b[39m\u001b[38;5;124m자치구\u001b[39m\u001b[38;5;124m'\u001b[39m, y\u001b[38;5;241m=\u001b[39m\u001b[38;5;124m'\u001b[39m\u001b[38;5;124m수\u001b[39m\u001b[38;5;124m'\u001b[39m, hue\u001b[38;5;241m=\u001b[39m\u001b[38;5;124m'\u001b[39m\u001b[38;5;124m종류\u001b[39m\u001b[38;5;124m'\u001b[39m)\n\u001b[0;32m     10\u001b[0m plt\u001b[38;5;241m.\u001b[39mtitle(\u001b[38;5;124m'\u001b[39m\u001b[38;5;124m자치구별 정류장수 및 노선수\u001b[39m\u001b[38;5;124m'\u001b[39m)\n\u001b[0;32m     11\u001b[0m plt\u001b[38;5;241m.\u001b[39mxticks(rotation\u001b[38;5;241m=\u001b[39m\u001b[38;5;241m45\u001b[39m)\n",
      "\u001b[1;31mNameError\u001b[0m: name 'sns' is not defined"
     ]
    },
    {
     "data": {
      "text/plain": [
       "<Figure size 1200x600 with 0 Axes>"
      ]
     },
     "metadata": {},
     "output_type": "display_data"
    }
   ],
   "source": [
    "# 주석\n",
    "# 막대그래프\n",
    "# 데이터 준비\n",
    "df_melted = df_seoul_bus_station.melt(id_vars='자치구', value_vars=['정류장수', '노선수'], \n",
    "                                        var_name='종류', value_name='수')\n",
    "\n",
    "# 그래프 그리기\n",
    "plt.figure(figsize=(12, 6))\n",
    "sns.barplot(data=df_melted, x='자치구', y='수', hue='종류')\n",
    "plt.title('자치구별 정류장수 및 노선수')\n",
    "plt.xticks(rotation=45)\n",
    "plt.ylabel('수')\n",
    "plt.legend(title='종류')\n",
    "plt.tight_layout()\n",
    "plt.show()\n",
    "\n"
   ]
  },
  {
   "cell_type": "code",
   "execution_count": null,
   "id": "04f59c32-2185-4b45-ab9e-8cd7b455c771",
   "metadata": {},
   "outputs": [],
   "source": [
    "# 서브플롯 생성\n",
    "fig, axes = plt.subplots(1, 2, figsize=(16, 8))\n",
    "\n",
    "# 첫 번째 산점도: 정류장수 vs 승차총승객수\n",
    "sns.scatterplot(x='정류장수', y='승차총승객수', hue='자치구', data=df_seoul_bus_station, ax=axes[0])\n",
    "axes[0].set_title('정류장수와 승차총승객수의 관계')\n",
    "\n",
    "# 두 번째 산점도: 노선수 vs 승차총승객수\n",
    "sns.scatterplot(x='노선수', y='승차총승객수', hue='자치구', data=df_seoul_bus_station, ax=axes[1])\n",
    "axes[1].set_title('노선수와 승차총승객수의 관계')\n",
    "\n",
    "# 레이아웃 조정\n",
    "plt.tight_layout()\n",
    "plt.show()"
   ]
  },
  {
   "cell_type": "code",
   "execution_count": null,
   "id": "3b634c73-b192-478f-8b67-08ea4a0622cd",
   "metadata": {
    "id": "3b634c73-b192-478f-8b67-08ea4a0622cd"
   },
   "outputs": [],
   "source": [
    "# 주석\n",
    "import seaborn as sns\n",
    "import matplotlib.pyplot as plt\n",
    "\n",
    "# 데이터 시각화\n",
    "sns.pairplot(df_seoul_bus_station)\n",
    "plt.show()\n",
    "\n"
   ]
  },
  {
   "cell_type": "code",
   "execution_count": null,
   "id": "83607161-b88b-4e2f-972f-1e7fc63dd0b9",
   "metadata": {},
   "outputs": [],
   "source": [
    "import pandas as pd\n",
    "import seaborn as sns\n",
    "import matplotlib.pyplot as plt\n",
    "# '자치구' 컬럼을 제외하고 상관관계 행렬 계산\n",
    "correlation_matrix = df_seoul_bus_station.drop(columns=['자치구']).corr()\n",
    "\n",
    "# 히트맵 그리기\n",
    "plt.figure(figsize=(10, 8))\n",
    "sns.heatmap(correlation_matrix, annot=True, cmap='coolwarm', fmt='.2f', \n",
    "            xticklabels=correlation_matrix.columns, yticklabels=correlation_matrix.columns)\n",
    "plt.title('변수 간 상관관계 히트맵')\n",
    "plt.show()"
   ]
  },
  {
   "cell_type": "markdown",
   "id": "eb21b4d6-6c55-46bf-8d9a-dc2ad3540f9a",
   "metadata": {
    "id": "86892a60"
   },
   "source": [
    "* 히트맵을 통한 인사이트\r\n",
    "1. 정류장수와 승차총승객수 > 상관계수: 0.5 <br>8\r\n",
    "정류장수가 많을수록 승차총승객수가 증가하는 경향이 있습니다. 이는 정류장이 많은 지역일수록 대중교통 이용이 활발하다는 것을 시사합니다.\r\n",
    "2. 정류장수와 하차총승객수 > 상관계수: 0 <br>.59\r\n",
    "정류장수가 많을수록 하차총승객수도 증가하는 경향이 있습니다. 이는 정류장이 많은 지역이 승차뿐만 아니라 하차에서도 이용량이 많음을 나타냅니다.\r\n",
    "3. 노선수와 승차총승객수 > 상관계수: <br> 0.73\r\n",
    "노선수가 많을수록 승차총승객수가 높아지는 경향이 강합니다. 이는 다양한 노선이 존재할수록 승객들이 더 많이 이용하게 된다는 것을 의미합니다.\r\n",
    "4. 노선수와 하차총승객수 > 상관계 <br>수: 0.72\r\n",
    "노선수가 많을수록 하차총승객수도 증가합니다. 이는 노선의 다양성이 승객의 이동을 촉진한다는 것 5을 나타냅니다.\r\n",
    "6. 승차평균승객수와 다른 변수들 > 관계수: -0.23 (정류수와), - <br>0.20 (노선수와)\r\n",
    "승차평균승객수는 다른 변수들과 부의 상관관계를 보입니다. 이는 평균 승객 수가 높지 않을수록 정류장수나 노선수가 많아도 승차량이 적게 나타날 수6있음을 의미합니다.\r\n",
    "7. 하차평균승객수와 다른 변수들 > 상관계수: -0.20 (정류장수와), <br> -0.20 (노선수와)\r\n",
    "하차평균승객수도 비슷한 경향을 보입니다. 이는 특정 지역의 평균 승객 수가 낮을 경우, 정류장이나 노선의 수와 관계없이 하차량이 적게 나타날 <br>수 있음을 시사합니다. \r\n",
    "\r\n",
    "* 결론\r\n",
    "정류장수와 노선수는 승차총승객수 및 하차총승객수와 양의 상관관계를 가지며, 이는 대중교통의 이용량에 긍정적인 영향을 미친다는 것을 나타냅니다.\r\n",
    "평균 승객 수는 다른 변수들과 부의 상관관계를 보여, 특정 지역의 대중교통 이용 패턴을 보다 깊이 이해할 필요가 있습니다. 평균 승객 수가 낮은 지역은 대중교통 이용을 촉진하기 위한 추가 등의 전략을 모색할 수 있습니다."
   ]
  },
  {
   "cell_type": "code",
   "execution_count": null,
   "id": "a7a6b95d-dad1-41d8-8762-9a3c5b1125f1",
   "metadata": {},
   "outputs": [],
   "source": []
  }
 ],
 "metadata": {
  "colab": {
   "provenance": []
  },
  "kernelspec": {
   "display_name": "Python 3 (ipykernel)",
   "language": "python",
   "name": "python3"
  },
  "language_info": {
   "codemirror_mode": {
    "name": "ipython",
    "version": 3
   },
   "file_extension": ".py",
   "mimetype": "text/x-python",
   "name": "python",
   "nbconvert_exporter": "python",
   "pygments_lexer": "ipython3",
   "version": "3.12.4"
  },
  "vscode": {
   "interpreter": {
    "hash": "f08154012ddadd8e950e6e9e035c7a7b32c136e7647e9b7c77e02eb723a8bedb"
   }
  }
 },
 "nbformat": 4,
 "nbformat_minor": 5
}
